{
 "cells": [
  {
   "cell_type": "code",
   "execution_count": 58,
   "metadata": {},
   "outputs": [],
   "source": [
    "from langchain.document_loaders.sitemap import SitemapLoader\n",
    "import nest_asyncio\n",
    "nest_asyncio.apply()"
   ]
  },
  {
   "cell_type": "code",
   "execution_count": 18,
   "metadata": {},
   "outputs": [
    {
     "name": "stderr",
     "output_type": "stream",
     "text": [
      "Fetching pages: 100%|##########| 30/30 [00:16<00:00,  1.80it/s]\n"
     ]
    }
   ],
   "source": [
    "web_path = \"https://alunodigital.estacio.br/sitemap.xml\"\n",
    "pattern = [r'^https://alunodigital\\.estacio\\.br/guiapratico.*']\n",
    "loader = SitemapLoader(web_path=web_path, filter_urls=pattern)\n",
    "docs = loader.load()"
   ]
  },
  {
   "cell_type": "code",
   "execution_count": 67,
   "metadata": {},
   "outputs": [
    {
     "data": {
      "text/plain": [
       "{'source': 'https://alunodigital.estacio.br/guiapratico/calouro',\n",
       " 'loc': 'https://alunodigital.estacio.br/guiapratico/calouro',\n",
       " 'lastmod': '2023-10-10'}"
      ]
     },
     "execution_count": 67,
     "metadata": {},
     "output_type": "execute_result"
    }
   ],
   "source": [
    "docs[0].metadata"
   ]
  },
  {
   "cell_type": "code",
   "execution_count": null,
   "metadata": {},
   "outputs": [],
   "source": [
    "from langchain.text_splitter import CharacterTextSplitter\n",
    "\n",
    "text_splitter = CharacterTextSplitter(\n",
    "    separator = \"\\n\\n\",\n",
    "    chunk_size = 512,\n",
    "    chunk_overlap  = 0.25,\n",
    "    length_function = len,\n",
    "    is_separator_regex = False,\n",
    ")\n",
    "\n",
    "chunks = text_splitter.split_documents(docs);"
   ]
  },
  {
   "cell_type": "code",
   "execution_count": 64,
   "metadata": {},
   "outputs": [],
   "source": [
    "import os\n",
    "from azure.storage.blob import BlobServiceClient, BlobClient, ContainerClient\n",
    "\n",
    "customer_storage_connection_string = os.getenv(\"DOCUMENT_AZURE_STORAGE_CONNECTION_STRING\")\n",
    "container_name = os.getenv(\"DOCUMENT_AZURE_STORAGE_CONTAINER_NAME\")\n",
    "\n",
    "blob_service_client = BlobServiceClient.from_connection_string(customer_storage_connection_string)\n",
    "container_client = blob_service_client.get_container_client(container=container_name)\n",
    "\n",
    "if not container_client.exists():\n",
    "    container_client.create_container()\n",
    "\n",
    "# Upload strings from the list to blob storage as text files\n",
    "for doc in docs:\n",
    "    blob = doc.metadata['source'].split('.br/')[-1].replace('/', '_') + '.txt'\n",
    "    blob_client = blob_service_client.get_blob_client(container=container_name, blob=blob)\n",
    "    \n",
    "    # Upload the string as a text file\n",
    "    blob_client.upload_blob(doc.page_content, overwrite=True)"
   ]
  },
  {
   "cell_type": "code",
   "execution_count": 38,
   "metadata": {},
   "outputs": [],
   "source": [
    "import os\n",
    "import openai\n",
    "from dotenv import load_dotenv\n",
    "\n",
    "load_dotenv(verbose=True)\n",
    "\n",
    "openai.api_type = os.getenv(\"OPENAI_API_TYPE\")\n",
    "openai.api_version = os.getenv(\"OPENAI_API_VERSION\")\n",
    "openai.api_key = os.getenv(\"OPENAI_API_KEY\")\n",
    "openai.api_base = os.getenv(\"OPENAI_API_BASE\")\n",
    "\n",
    "text = docs[1].page_content\n",
    "\n",
    "prompt = \"\"\"\n",
    "### Instructions\n",
    "- You will receive a text. \n",
    "- You will rewrite the text. \n",
    "- Keep the text's language. \n",
    "- You will NOT ommit or summarize information. The content of the rewritten text must be faithful to the original\n",
    "\n",
    "### Text to be rewritten\n",
    "{}\n",
    "\n",
    "### Rewritten text:\"\"\".format(text)\n",
    "\n",
    "response = openai.Completion.create(\n",
    "    engine=\"gpt-35-turbo-instruct\",\n",
    "    prompt=prompt,\n",
    "    max_tokens=1000\n",
    ")"
   ]
  },
  {
   "cell_type": "code",
   "execution_count": 41,
   "metadata": {},
   "outputs": [
    {
     "name": "stdout",
     "output_type": "stream",
     "text": [
      "\n",
      "\n",
      "ALO, COMECE POR AQUI\n",
      "Olá, nós o recebemos na Estácio! Estamos contentes em tê-lo conosco. Descubra tudo o que precisa saber sobre o início dos seus estudos em nosso ensino digital através dos passos iniciais que apresentaremos abaixo. A modalidade de ensino digital requer muita dedicação e disciplina, mas estaremos sempre ao seu lado neste percurso. Aqui, você é o protagonista dos seus estudos e desenvolvimento. Lembre-se de que estudar online não significa estudar sozinho. Participe, construa e colabore com o seu tutor e colegas!\n",
      "\n",
      "Primeiros passos\n",
      "Antes de tudo, há 5 temas essenciais que você precisa saber sobre a sua Graduação Digital! Vamos lá? 👇\n",
      "\n",
      "Period PAR x Period ÍMPAR\n",
      "Calendário Acadêmico\n",
      "Campus Virtual - SIA\n",
      "Sala de Aula Virtual - SAVA\n",
      "APP Minha Estácio\n",
      "\n",
      "Period PAR x Period ÍMPAR\n",
      "Aqui na Estácio Digital, os alunos podem iniciar a graduação em diferentes épocas do ano. Dividimos esses períodos entre PAR e ÍMPAR. Para identificar em qual período você se encontra, acesse: Campus Virtual - SIA> Financeiro> Informações Financeiras. No canto superior direito, confira o campo \"Situação\". A descrição do seu período atual será exibida. #Dica: Os períodos ímpares sempre terão um número ímpar no final para identificá-los, enquanto os períodos pares terão um número par!\n",
      "\n",
      "Calendário Acadêmico\n",
      "Lembre-se de que na graduação da Estácio, os calendários são divididos de acordo com o semestre letivo dos alunos, ou seja, sempre haverá o calendário do período PAR e o calendário do período ÍMPAR. Onde encontrar o calendário acadêmico? Existem duas formas:\n",
      "\n",
      "Acesse seu Campus Virtual - SIA, a lista com os calendários acadêmicos estará no final da página inicial, clique e faça o download do calendário do seu período!\n",
      "Dentro da sua Sala de Aula Virtual - SAVA, no canto esquerdo, clique em Calendário Acadêmico.\n",
      "\n",
      "Atenção! Os calendários acadêmicos podem sofrer alterações de datas ao longo do semestre, por isso, fique atento aos calendários atualizados.\n",
      "\n",
      "Campus Virtual - SIA\n",
      "No ensino digital, você utilizará três sistemas acadêmicos, cada um com sua função na sua jornada de estudos! 😁\n",
      "Primeiro, vamos falar do SIA, o seu Campus Virtual:\n",
      "Neste sistema, você poderá verificar informações acadêmicas e financeiras. É um verdadeiro centro à sua disposição! Ao longo do Guia Prático, você terá todas as informações que precisa sobre o seu Campus Virtual.\n",
      "❤️ Salvem o link direto para o acesso ao SIA.\n",
      "\n",
      "Calendário Acadêmico\n",
      "Campus Virtual - SIA\n",
      "Sala de Aula Virtual - SAVA\n",
      "APP Minha Estácio\n",
      "\n",
      "Sala de Aula Virtual - SAVA\n",
      "A SAVA é onde você estuda:\n",
      "Todos os conteúdos estarão disponíveis aqui e você contará com ferramentas de apoio ao aprendizado. Ao longo do Guia Prático, você terá todas as informações que precisa sobre a sua sala de aula.\n",
      "❤️ Salve o link de acesso direto da SAVA.\n",
      "\n",
      "Calendário Acadêmico\n",
      "Campus Virtual - SIA\n",
      "Sala de Aula Virtual - SAVA\n",
      "APP Minha Estácio\n",
      "\n",
      "APP Minha Estácio\n",
      "A graduação na palma da sua mão. O App Minha Estácio derruba as barreiras entre você e o conhecimento. O porquê? Porque com ele, você pode estudar pelo seu celular de forma fácil. E mais! É um aplicativo leve que ocupa pouco espaço na memória do seu smartphone!\n",
      "Com ele, você pode:\n",
      "\n",
      "Assistir às aulas.\n",
      "Consultar a grade curricular;\n",
      "Mover sua grade diretamente pelo Renova (alunos veteranos);\n",
      "Consultar e emitir 2ª via dos boletos;\n",
      "Abrir atendimentos para emissão de Declarações e outras necessidades;\n",
      "Consultar a nota final das disciplinas!\n",
      "Download Play Store\n",
      "Download App Store\n",
      "\n",
      "Calendário Acadêmico\n",
      "Campus Virtual - SIA\n",
      "Sala de Aula Virtual - SAVA\n",
      "APP Minha Est\n"
     ]
    }
   ],
   "source": [
    "for splitted_text in response.choices[0].text.split('\\n'):\n",
    "    print(splitted_text)"
   ]
  }
 ],
 "metadata": {
  "kernelspec": {
   "display_name": "base",
   "language": "python",
   "name": "python3"
  },
  "language_info": {
   "codemirror_mode": {
    "name": "ipython",
    "version": 3
   },
   "file_extension": ".py",
   "mimetype": "text/x-python",
   "name": "python",
   "nbconvert_exporter": "python",
   "pygments_lexer": "ipython3",
   "version": "3.9.18"
  }
 },
 "nbformat": 4,
 "nbformat_minor": 2
}

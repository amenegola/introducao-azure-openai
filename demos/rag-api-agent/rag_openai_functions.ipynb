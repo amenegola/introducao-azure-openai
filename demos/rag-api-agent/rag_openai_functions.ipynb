{
 "cells": [
  {
   "cell_type": "markdown",
   "metadata": {},
   "source": [
    "# QA over Documents with Azure Cognitive Search as Vector Database"
   ]
  },
  {
   "cell_type": "code",
   "execution_count": 1,
   "metadata": {},
   "outputs": [],
   "source": [
    "import os\n",
    "import openai\n",
    "from dotenv import load_dotenv\n",
    "from langchain.chat_models import AzureChatOpenAI\n",
    "from langchain.chains import RetrievalQA\n",
    "from langchain.embeddings.openai import OpenAIEmbeddings\n",
    "from langchain.vectorstores.azuresearch import AzureSearch\n",
    "from langchain.document_loaders import PyPDFDirectoryLoader\n",
    "from langchain.text_splitter import CharacterTextSplitter\n",
    "from langchain.agents import initialize_agent, Tool, AgentType\n",
    "\n",
    "\n",
    "load_dotenv(verbose=True)\n",
    "\n",
    "OPENAI_API_TYPE = os.getenv(\"OPENAI_API_TYPE\")\n",
    "OPENAI_API_VERSION = os.getenv(\"OPENAI_API_VERSION\")\n",
    "OPENAI_API_KEY = os.getenv(\"OPENAI_API_KEY\")\n",
    "OPENAI_API_BASE = os.getenv(\"OPENAI_API_BASE\")"
   ]
  },
  {
   "cell_type": "code",
   "execution_count": 2,
   "metadata": {},
   "outputs": [],
   "source": [
    "embeddings = OpenAIEmbeddings(deployment='text-embedding-ada-002')\n",
    "\n",
    "vector_store = AzureSearch(\n",
    "    azure_search_endpoint=os.getenv(\"VECTOR_STORE_ADDRESS\"),\n",
    "    azure_search_key=os.getenv(\"VECTOR_STORE_KEY\"),\n",
    "    index_name=\"mackenzie\",\n",
    "    embedding_function=embeddings.embed_query,\n",
    ")"
   ]
  },
  {
   "cell_type": "code",
   "execution_count": 3,
   "metadata": {},
   "outputs": [],
   "source": [
    "loader = PyPDFDirectoryLoader(\"pdfs\")\n",
    "\n",
    "documents = loader.load()\n",
    "text_splitter = CharacterTextSplitter(chunk_size=1000, chunk_overlap=0)\n",
    "docs = text_splitter.split_documents(documents)\n",
    "\n",
    "vector_store.add_documents(documents=docs);"
   ]
  },
  {
   "cell_type": "code",
   "execution_count": 6,
   "metadata": {},
   "outputs": [],
   "source": [
    "llm = AzureChatOpenAI(\n",
    "    openai_api_base=OPENAI_API_BASE,\n",
    "    openai_api_version=OPENAI_API_VERSION,\n",
    "    deployment_name='gpt-35-turbo-16k',\n",
    "    openai_api_key=OPENAI_API_KEY,\n",
    "    openai_api_type=OPENAI_API_TYPE,\n",
    ")\n",
    "\n",
    "qa = RetrievalQA.from_chain_type(\n",
    "    llm=llm, \n",
    "    chain_type=\"stuff\", \n",
    "    retriever=vector_store.as_retriever(),\n",
    "    return_source_documents=False\n",
    ")"
   ]
  },
  {
   "cell_type": "code",
   "execution_count": 7,
   "metadata": {},
   "outputs": [],
   "source": [
    "query = \"What does a product manager do?\"\n",
    "result = qa({\"query\": query})"
   ]
  },
  {
   "cell_type": "code",
   "execution_count": 8,
   "metadata": {},
   "outputs": [
    {
     "data": {
      "text/plain": [
       "{'query': 'What does a product manager do?',\n",
       " 'result': \"A product manager is responsible for overseeing the development and management of a company's products. They work closely with cross-functional teams such as engineering, marketing, and sales to ensure that products align with the company's goals and meet customer needs. Some specific responsibilities of a product manager include:\\n\\n1. Developing product strategies and plans\\n2. Conducting market research and identifying customer needs\\n3. Creating and managing product roadmaps\\n4. Collaborating with internal teams to ensure successful product execution\\n5. Analyzing product performance and customer feedback to identify areas for improvement\\n6. Overseeing product lifecycle management processes\\n7. Developing pricing strategies and cost models\\n8. Managing product budgets\\n9. Leading and guiding the product management team.\"}"
      ]
     },
     "execution_count": 8,
     "metadata": {},
     "output_type": "execute_result"
    }
   ],
   "source": [
    "result"
   ]
  },
  {
   "cell_type": "markdown",
   "metadata": {},
   "source": [
    "# OpenAI Functions Agent"
   ]
  },
  {
   "cell_type": "code",
   "execution_count": 3,
   "metadata": {},
   "outputs": [],
   "source": [
    "from pydantic import BaseModel, Field\n",
    "from langchain.tools.base import BaseTool\n",
    "from typing import Type\n",
    "\n",
    "class FakeUserInput(BaseModel):\n",
    "    \"\"\"Input for FakeUserTool.\"\"\"\n",
    "\n",
    "    gender: str = Field(..., description=\"Fake user gender. Available genders: 'male' or ''female\")\n",
    "    naturality: str = Field(..., description=\"Country ISO 3166 code\")\n",
    "\n",
    "class FakeUserTool(BaseTool):\n",
    "    \"\"\"Tool that creates fake user data.\"\"\"\n",
    "\n",
    "    name: str = \"fake_user_tool\"\n",
    "    args_schema: Type[BaseModel] = FakeUserInput\n",
    "    description: str = \"Tool to generate fake user data considering a gender and a nationality.\"\n",
    "\n",
    "    def _run(self, gender: str, naturality: str) -> str:\n",
    "        try:\n",
    "            import requests\n",
    "\n",
    "            response = requests.get(\n",
    "                'https://randomuser.me/api/1.4/', \n",
    "                params={'gender': gender,\n",
    "                        'nat': naturality}\n",
    "            )\n",
    "            return response.text\n",
    "        except Exception as e:\n",
    "            return \"Error: \" + str(e)"
   ]
  },
  {
   "cell_type": "code",
   "execution_count": 4,
   "metadata": {},
   "outputs": [],
   "source": [
    "tools = [FakeUserTool()]"
   ]
  },
  {
   "cell_type": "code",
   "execution_count": 7,
   "metadata": {},
   "outputs": [],
   "source": [
    "agent = initialize_agent(tools, llm, agent=AgentType.OPENAI_FUNCTIONS, verbose=True)"
   ]
  },
  {
   "cell_type": "code",
   "execution_count": 8,
   "metadata": {},
   "outputs": [
    {
     "name": "stdout",
     "output_type": "stream",
     "text": [
      "\n",
      "\n",
      "\u001b[1m> Entering new AgentExecutor chain...\u001b[0m\n",
      "\u001b[32;1m\u001b[1;3m\n",
      "Invoking: `fake_user_tool` with `{'gender': 'male', 'naturality': 'BR'}`\n",
      "\n",
      "\n",
      "\u001b[0m\u001b[36;1m\u001b[1;3m{\"results\":[{\"gender\":\"male\",\"name\":{\"title\":\"Mr\",\"first\":\"Prudêncio\",\"last\":\"da Cruz\"},\"location\":{\"street\":{\"number\":7876,\"name\":\"Rua Amazonas \"},\"city\":\"Macaé\",\"state\":\"Tocantins\",\"country\":\"Brazil\",\"postcode\":65740,\"coordinates\":{\"latitude\":\"-10.0286\",\"longitude\":\"101.3643\"},\"timezone\":{\"offset\":\"+6:00\",\"description\":\"Almaty, Dhaka, Colombo\"}},\"email\":\"prudencio.dacruz@example.com\",\"login\":{\"uuid\":\"3cc18f90-d07b-4c01-ac28-24eca49b1c8a\",\"username\":\"silverdog597\",\"password\":\"bigfoot\",\"salt\":\"cYcEUUah\",\"md5\":\"32292b0c0546c2f6253a93f976e6b37d\",\"sha1\":\"7788d37b01b985480a7f5dfba240ca2c14a8faea\",\"sha256\":\"83dd81f5bdf37627f78e6024bccee6a188bafbe3623e264b0d4e03a8a22fd448\"},\"dob\":{\"date\":\"1955-04-12T22:21:53.104Z\",\"age\":68},\"registered\":{\"date\":\"2008-02-29T05:18:02.572Z\",\"age\":15},\"phone\":\"(76) 2671-7564\",\"cell\":\"(60) 2719-1902\",\"id\":{\"name\":\"CPF\",\"value\":\"516.990.978-52\"},\"picture\":{\"large\":\"https://randomuser.me/api/portraits/men/93.jpg\",\"medium\":\"https://randomuser.me/api/portraits/med/men/93.jpg\",\"thumbnail\":\"https://randomuser.me/api/portraits/thumb/men/93.jpg\"},\"nat\":\"BR\"}],\"info\":{\"seed\":\"0680753435fc1e0b\",\"results\":1,\"page\":1,\"version\":\"1.4\"}}\u001b[0m\u001b[32;1m\u001b[1;3mHere is the fake data for a male born in Brazil:\n",
      "\n",
      "- Name: Mr Prudêncio da Cruz\n",
      "- Gender: Male\n",
      "- Date of Birth: April 12, 1955 (68 years old)\n",
      "- Nationality: Brazilian\n",
      "- Email: prudencio.dacruz@example.com\n",
      "- Username: silverdog597\n",
      "- Password: bigfoot\n",
      "- Address: Rua Amazonas 7876, Macaé, Tocantins, Brazil, 65740\n",
      "- Phone: (76) 2671-7564\n",
      "- Cell: (60) 2719-1902\n",
      "- Picture: ![Picture](https://randomuser.me/api/portraits/men/93.jpg)\u001b[0m\n",
      "\n",
      "\u001b[1m> Finished chain.\u001b[0m\n"
     ]
    },
    {
     "data": {
      "text/plain": [
       "{'input': 'Create fake data for a male that was born in brazil',\n",
       " 'output': 'Here is the fake data for a male born in Brazil:\\n\\n- Name: Mr Prudêncio da Cruz\\n- Gender: Male\\n- Date of Birth: April 12, 1955 (68 years old)\\n- Nationality: Brazilian\\n- Email: prudencio.dacruz@example.com\\n- Username: silverdog597\\n- Password: bigfoot\\n- Address: Rua Amazonas 7876, Macaé, Tocantins, Brazil, 65740\\n- Phone: (76) 2671-7564\\n- Cell: (60) 2719-1902\\n- Picture: ![Picture](https://randomuser.me/api/portraits/men/93.jpg)'}"
      ]
     },
     "execution_count": 8,
     "metadata": {},
     "output_type": "execute_result"
    }
   ],
   "source": [
    "agent('Create fake data for a male that was born in brazil')"
   ]
  },
  {
   "cell_type": "markdown",
   "metadata": {},
   "source": [
    "# OpenAI Functions Multi Tool Agent"
   ]
  },
  {
   "cell_type": "code",
   "execution_count": 14,
   "metadata": {},
   "outputs": [],
   "source": [
    "qa_tool = Tool(\n",
    "    name='role-library-tool',\n",
    "    func=qa.run,\n",
    "    description='Useful when a user wants answers about the company employee handbook'\n",
    ")\n",
    "\n",
    "tools = [FakeUserTool(), qa_tool]"
   ]
  },
  {
   "cell_type": "code",
   "execution_count": 15,
   "metadata": {},
   "outputs": [],
   "source": [
    "agent = initialize_agent(tools, llm, agent=AgentType.OPENAI_FUNCTIONS, verbose=True)"
   ]
  },
  {
   "cell_type": "code",
   "execution_count": 16,
   "metadata": {},
   "outputs": [
    {
     "name": "stdout",
     "output_type": "stream",
     "text": [
      "\n",
      "\n",
      "\u001b[1m> Entering new AgentExecutor chain...\u001b[0m\n",
      "\u001b[32;1m\u001b[1;3m\n",
      "Invoking: `fake_user_tool` with `{'gender': 'female', 'naturality': 'FR'}`\n",
      "\n",
      "\n",
      "\u001b[0m\u001b[36;1m\u001b[1;3m{\"results\":[{\"gender\":\"female\",\"name\":{\"title\":\"Mrs\",\"first\":\"Emy\",\"last\":\"Philippe\"},\"location\":{\"street\":{\"number\":1945,\"name\":\"Avenue du Fort-Caire\"},\"city\":\"Brest\",\"state\":\"Alpes-de-Haute-Provence\",\"country\":\"France\",\"postcode\":74064,\"coordinates\":{\"latitude\":\"53.4326\",\"longitude\":\"-53.8271\"},\"timezone\":{\"offset\":\"-7:00\",\"description\":\"Mountain Time (US & Canada)\"}},\"email\":\"emy.philippe@example.com\",\"login\":{\"uuid\":\"c833130b-28e0-4b43-9854-7b0aa4195ec2\",\"username\":\"goldenfish535\",\"password\":\"kappa\",\"salt\":\"jF5dTpmu\",\"md5\":\"c31e4939d9061cf9687f205f0284a041\",\"sha1\":\"798a7f3a5efe67e47ad0e49ebf010961eb640666\",\"sha256\":\"c3badea07d5a4c7c747855644d7625a25b3eddeabe5bcfca5cd8ae746a091546\"},\"dob\":{\"date\":\"1984-07-12T00:29:21.500Z\",\"age\":39},\"registered\":{\"date\":\"2003-05-14T23:51:50.827Z\",\"age\":20},\"phone\":\"04-20-63-87-12\",\"cell\":\"06-65-67-82-12\",\"id\":{\"name\":\"INSEE\",\"value\":\"2840629313726 16\"},\"picture\":{\"large\":\"https://randomuser.me/api/portraits/women/64.jpg\",\"medium\":\"https://randomuser.me/api/portraits/med/women/64.jpg\",\"thumbnail\":\"https://randomuser.me/api/portraits/thumb/women/64.jpg\"},\"nat\":\"FR\"}],\"info\":{\"seed\":\"93b37eb44a6ab7e0\",\"results\":1,\"page\":1,\"version\":\"1.4\"}}\u001b[0m\u001b[32;1m\u001b[1;3mHere is the generated fake user data:\n",
      "\n",
      "- Name: Mrs. Emy Philippe\n",
      "- Location: 1945 Avenue du Fort-Caire, Brest, Alpes-de-Haute-Provence, France\n",
      "- Postcode: 74064\n",
      "- Email: emy.philippe@example.com\n",
      "- Username: goldenfish535\n",
      "- Date of Birth: 1984-07-12\n",
      "- Registered since: 2003-05-14\n",
      "- Phone: 04-20-63-87-12\n",
      "- Cell: 06-65-67-82-12\n",
      "- ID: INSEE 2840629313726 16\n",
      "\n",
      "![Emy Philippe](https://randomuser.me/api/portraits/women/64.jpg)\u001b[0m\n",
      "\n",
      "\u001b[1m> Finished chain.\u001b[0m\n"
     ]
    },
    {
     "data": {
      "text/plain": [
       "{'input': 'Create fake data for a female that was born in france',\n",
       " 'output': 'Here is the generated fake user data:\\n\\n- Name: Mrs. Emy Philippe\\n- Location: 1945 Avenue du Fort-Caire, Brest, Alpes-de-Haute-Provence, France\\n- Postcode: 74064\\n- Email: emy.philippe@example.com\\n- Username: goldenfish535\\n- Date of Birth: 1984-07-12\\n- Registered since: 2003-05-14\\n- Phone: 04-20-63-87-12\\n- Cell: 06-65-67-82-12\\n- ID: INSEE 2840629313726 16\\n\\n![Emy Philippe](https://randomuser.me/api/portraits/women/64.jpg)'}"
      ]
     },
     "execution_count": 16,
     "metadata": {},
     "output_type": "execute_result"
    }
   ],
   "source": [
    "agent('Create fake data for a female that was born in france')"
   ]
  },
  {
   "cell_type": "code",
   "execution_count": null,
   "metadata": {},
   "outputs": [],
   "source": [
    "agent('What does a product manager do?')"
   ]
  }
 ],
 "metadata": {
  "kernelspec": {
   "display_name": "base",
   "language": "python",
   "name": "python3"
  },
  "language_info": {
   "codemirror_mode": {
    "name": "ipython",
    "version": 3
   },
   "file_extension": ".py",
   "mimetype": "text/x-python",
   "name": "python",
   "nbconvert_exporter": "python",
   "pygments_lexer": "ipython3",
   "version": "3.9.18"
  },
  "orig_nbformat": 4
 },
 "nbformat": 4,
 "nbformat_minor": 2
}

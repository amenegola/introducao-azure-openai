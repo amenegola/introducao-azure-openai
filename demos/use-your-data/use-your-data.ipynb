{
 "cells": [
  {
   "cell_type": "markdown",
   "metadata": {},
   "source": [
    "### Setup"
   ]
  },
  {
   "cell_type": "code",
   "execution_count": 22,
   "metadata": {},
   "outputs": [],
   "source": [
    "import openai, os, requests\n",
    "from dotenv import load_dotenv\n",
    "import json\n",
    "\n",
    "load_dotenv()\n",
    "\n",
    "openai.api_type = \"azure\"\n",
    "# Azure OpenAI on your own data is only supported by the 2023-08-01-preview API version\n",
    "openai.api_version = os.getenv(\"OPENAI_API_VERSION\")\n",
    "openai.api_base = os.getenv(\"OPENAI_API_BASE\")\n",
    "openai.api_key = os.getenv(\"OPENAI_API_KEY\") # Add your OpenAI API key here\n",
    "deployment_id = \"gpt-4-32k\" # Add your deployment ID here\n",
    "\n",
    "# Azure AI Search setup\n",
    "search_endpoint = \"https://cog-search-aia.search.windows.net\"; # Add your Azure AI Search endpoint here\n",
    "search_key = os.getenv(\"VECTOR_STORE_KEY\"); # Add your Azure AI Search admin key here\n",
    "search_index_name = \"pythonsample-documents-chunk-index\"; # Add your Azure AI Search index name here\n",
    "\n",
    "def setup_byod(deployment_id: str) -> None:\n",
    "    \"\"\"Sets up the OpenAI Python SDK to use your own data for the chat endpoint.\n",
    "\n",
    "    :param deployment_id: The deployment ID for the model to use with your own data.\n",
    "\n",
    "    To remove this configuration, simply set openai.requestssession to None.\n",
    "    \"\"\"\n",
    "\n",
    "    class BringYourOwnDataAdapter(requests.adapters.HTTPAdapter):\n",
    "\n",
    "        def send(self, request, **kwargs):\n",
    "            request.url = f\"{openai.api_base}/openai/deployments/{deployment_id}/extensions/chat/completions?api-version={openai.api_version}\"\n",
    "            return super().send(request, **kwargs)\n",
    "\n",
    "    session = requests.Session()\n",
    "\n",
    "    # Mount a custom adapter which will use the extensions endpoint for any call using the given `deployment_id`\n",
    "    session.mount(\n",
    "        prefix=f\"{openai.api_base}/openai/deployments/{deployment_id}\",\n",
    "        adapter=BringYourOwnDataAdapter()\n",
    "    )\n",
    "\n",
    "    openai.requestssession = session\n",
    "\n",
    "def run_chat_completion(message_text):\n",
    "    completion = openai.ChatCompletion.create(\n",
    "    messages=message_text,\n",
    "    deployment_id=deployment_id,\n",
    "    dataSources=[  # camelCase is intentional, as this is the format the API expects\n",
    "        {\n",
    "            \"type\": \"AzureCognitiveSearch\",\n",
    "            \"parameters\": {\n",
    "                \"endpoint\": search_endpoint,\n",
    "                \"key\": search_key,\n",
    "                \"indexName\": search_index_name,\n",
    "                \"semanticConfiguration\": \"default\",\n",
    "                \"queryType\": \"semantic\",\n",
    "                \"inScope\": True,\n",
    "                \"roleInformation\": \"Responda as perguntas em Português\",\n",
    "                \"strictness\": 3,\n",
    "            }\n",
    "        }\n",
    "    ]\n",
    "    )\n",
    "    return completion\n",
    "\n",
    "setup_byod(deployment_id)"
   ]
  },
  {
   "cell_type": "markdown",
   "metadata": {},
   "source": [
    "### Primeira pergunta do usuário"
   ]
  },
  {
   "cell_type": "code",
   "execution_count": 27,
   "metadata": {},
   "outputs": [
    {
     "data": {
      "text/plain": [
       "'1. **Gerente de Recursos Humanos**: Este papel é responsável por supervisionar o recrutamento, desenvolvimento e retenção de funcionários em todos os níveis da empresa. O Gerente Sênior de Recursos Humanos fornece liderança e direção para a equipe de Recursos Humanos, garantindo que todos os processos e procedimentos sejam seguidos e que o departamento atinja seus objetivos e metas[doc4].\\n\\n2. **Gerente de Pesquisa e Desenvolvimento**: O Gerente de Pesquisa e Desenvolvimento da Contoso Electronics cria e lidera as atividades de pesquisa e desenvolvimento da empresa. Este cargo é responsável por projetar e implementar soluções inovadoras para maximizar o desempenho do produto e otimizar a satisfação do cliente[doc1].\\n\\n3. **Vice-Presidente de Operações**: O Vice-Presidente de Operações da Contoso Electronics é responsável por supervisionar as operações diárias do negócio e liderar a equipe de operações. O VP de Operações é responsável por desenvolver e executar planos estratégicos para aumentar a eficiência, reduzir custos e maximizar a lucratividade[doc2].'"
      ]
     },
     "execution_count": 27,
     "metadata": {},
     "output_type": "execute_result"
    }
   ],
   "source": [
    "message_text = [{\"role\": \"user\", \"content\": \"List 3 job roles and a brief description for each one\"}]\n",
    "\n",
    "completion = run_chat_completion(message_text)\n",
    "\n",
    "completion['choices'][0]['message']['content']"
   ]
  },
  {
   "cell_type": "code",
   "execution_count": 28,
   "metadata": {},
   "outputs": [
    {
     "name": "stdout",
     "output_type": "stream",
     "text": [
      "{\n",
      "    \"citations\": [\n",
      "        {\n",
      "            \"content\": \". \\n\\n\\u2022 Oversee the recruitment and selection process, ensuring that hiring and promotion \\n\\ndecisions are made in compliance with applicable laws and regulations. \\n\\n\\u2022 Monitor employee performance, providing feedback and coaching as necessary. \\n\\n\\u2022 Develop compensation and benefit strategies to attract and retain top talent. \\n\\n\\u2022 Handle employee relations issues such as disciplinary actions, grievances, and \\n\\nperformance management. \\n\\n\\u2022 Ensure compliance with all applicable labor laws and regulations. \\n\\n\\u2022 Develop and maintain relationships with external vendors and service providers. \\n\\n\\u2022 Monitor and analyze employee engagement and satisfaction. \\n\\n\\u2022 Ensure a safe and healthy work environment. \\n\\npageimage26.jpg\\n\\n\\n\\n\\n\\n\\u2022 Lead the Human Resources department in a manner that supports and guides the \\n\\nachievement of the overall business objectives of the organization. \\n\\n \\n\\nQualifications: \\n\\n\\u2022 Bachelor\\u2019s degree in Human Resources, Business Administration, or a related field. \\n\\n\\u2022 At least 5 years of experience in a Human Resources role. \\n\\n\\u2022 Excellent written and verbal communication skills. \\n\\n\\u2022 Demonstrated ability to lead and manage change. \\n\\n\\u2022 Proficiency with Microsoft Office Suite. \\n\\n\\u2022 Knowledge of applicable labor laws and regulations. \\n\\n\\u2022 Ability to maintain confidentiality and discretion in all matters. \\n\\n\\u2022 Demonstrated ability to think strategically and develop innovative solutions. \\n\\n\\u2022 Strong interpersonal, problem solving, and organizational skills. \\n\\nManager of Research and Development \\n \\n\\nJOB DESCRIPTION  \\n\\n \\n\\nPosition Summary:  \\n\\nThe Manager of Research and Development for Contoso Electronics will create and lead the \\n\\nresearch and development activities of the company. This position will be responsible for \\n\\ndesigning and implementing innovative solutions to maximize product performance and \\n\\noptimize customer satisfaction.  \\n\\n \\n\\nResponsibilities:  \\n\\n\\u2022 Develop and implement strategies for research and development.  \\n\\n\\u2022 Design, test, and optimize products for optimal customer satisfaction.  \\n\\n\\u2022 Manage team of researchers and engineers to create innovative products.  \\n\\n\\u2022 Monitor the development process and ensure deadlines are met.  \\n\\n\\u2022 Analyze customer feedback and make necessary changes to product designs.  \\n\\n\\u2022 Collaborate with marketing, sales, and operations teams to ensure product success\",\n",
      "            \"id\": null,\n",
      "            \"title\": \"role_library.pdf\",\n",
      "            \"filepath\": null,\n",
      "            \"url\": null,\n",
      "            \"metadata\": {\n",
      "                \"chunking\": \"orignal document size=510. Scores=0.7204350233078003Org Highlight count=42.\"\n",
      "            },\n",
      "            \"chunk_id\": \"0\"\n",
      "        },\n",
      "        {\n",
      "            \"content\": \". \\n\\n \\n\\nResponsibilities: \\n\\n\\u2022 Develop and implement comprehensive marketing strategies and plans to promote \\n\\nContoso Electronics\\u2019 products and services \\n\\n\\u2022 Lead and manage a team of marketing professionals in the development and \\n\\nimplementation of marketing plans \\n\\n\\u2022 Oversee all aspects of marketing, including digital marketing, public relations, advertising, \\n\\nand events \\n\\n\\u2022 Monitor and analyze market trends, research customer preferences and competitors\\u2019 \\n\\nactivities \\n\\n\\u2022 Establish and maintain relationships with key customers, suppliers, and partners \\n\\n\\u2022 Ensure marketing activities and campaigns align with the company\\u2019s brand strategy \\n\\n\\u2022 Develop and monitor marketing budgets \\n\\n\\u2022 Ensure marketing activities and campaigns are compliant with relevant laws and \\n\\nregulations \\n\\n\\u2022 Monitor and measure the effectiveness of marketing campaigns and activities \\n\\n \\n\\nQualifications: \\n\\n\\u2022 Bachelor\\u2019s degree in marketing, business, or a related field \\n\\n\\u2022 Minimum of 10 years of experience in marketing and management roles \\n\\n\\u2022 Proven success in developing and implementing marketing strategies and campaigns \\n\\n\\u2022 Strong analytical and problem-solving skills \\n\\n\\u2022 Excellent project management and organizational skills \\n\\n\\u2022 Excellent communication and interpersonal skills \\n\\n\\u2022 Ability to work independently and as part of a team \\n\\n\\u2022 Knowledge of marketing and advertising best practices \\n\\n\\u2022 Knowledge of digital marketing trends and technologies \\n\\n\\u2022 Strong leadership skills \\n\\nVice President of Operations \\n \\n\\n \\n\\npageimage7.jpg\\n\\n\\n\\n\\n\\nJob Title: Vice President of Operations, Contoso Electronics  \\n\\n \\n\\nJob Summary: \\n\\nThe Vice President of Operations for Contoso Electronics will be responsible for overseeing \\n\\nthe day-to-day operations of the business and leading the operations team. The VP of \\n\\nOperations will be responsible for developing and executing strategic plans to increase \\n\\nefficiency, reduce costs, and maximize profitability.  \\n\\n \\n\\nResponsibilities: \\n\\n\\u2022 Lead and manage the operations team to ensure effective delivery of products and \\n\\nservices to customers.  \\n\\n\\u2022 Develop and implement strategies for improving operational practices and processes.  \\n\\n\\u2022 Analyze financial data to identify areas of potential cost savings and profitability.  \\n\\n\\u2022 Oversee the development and implementation of operational plans and budgets\",\n",
      "            \"id\": null,\n",
      "            \"title\": \"role_library.pdf\",\n",
      "            \"filepath\": null,\n",
      "            \"url\": null,\n",
      "            \"metadata\": {\n",
      "                \"chunking\": \"orignal document size=509. Scores=0.6894147992134094Org Highlight count=55.\"\n",
      "            },\n",
      "            \"chunk_id\": \"0\"\n",
      "        },\n",
      "        {\n",
      "            \"content\": \".  \\n\\n \\n\\nResponsibilities: \\n\\n\\u2022 Develop, implement and monitor comprehensive HR strategies and initiatives \\n\\n\\u2022 Foster a positive and productive work environment \\n\\n\\u2022 Collaborate with other departments to ensure alignment of HR initiatives with the \\n\\ncompany\\u2019s overall strategy \\n\\n\\u2022 Oversee the recruitment and onboarding process \\n\\n\\u2022 Develop, implement and monitor training and development initiatives  \\n\\n\\u2022 Manage employee relations, including conflict resolution, disciplinary action and \\n\\nperformance management \\n\\n\\u2022 Develop and implement compensation and benefit plans \\n\\n\\u2022 Track and analyze HR metrics \\n\\n\\u2022 Ensure compliance with all applicable laws and regulations \\n\\n\\u2022 Develop and monitor HR budgets  \\n\\n\\u2022 Stay up-to-date on the latest HR trends and best practices \\n\\n \\n\\nQualifications: \\n\\n\\u2022 Bachelor\\u2019s Degree in Human Resources, Business Administration or related field \\n\\n\\u2022 Proven work experience as a VP of Human Resources or similar role  \\n\\n\\u2022 Demonstrated leadership experience  \\n\\n\\u2022 Excellent interpersonal and communication skills \\n\\n\\u2022 Knowledge of labor laws and regulations  \\n\\n\\u2022 Strong analytical, problem-solving and decision-making skills \\n\\n\\u2022 Ability to lead and motivate teams  \\n\\n\\u2022 Proficiency in Microsoft Office Suite \\n\\nVice President of Research and Development \\n \\n\\nJob Title: Vice President of Research and Development, Contoso Electronics \\n\\n \\n\\nJob Summary: \\n\\nThe Vice President of Research and Development is responsible for leading Contoso \\n\\nElectronics\\u2019 research and development activities and initiatives. This position will focus on \\n\\npageimage9.jpg\\n\\n\\n\\n\\n\\ninnovating new products and technologies, and driving the product roadmap.  \\n\\n \\n\\nResponsibilities: \\n\\n\\u2022 Develop a comprehensive research and development strategy in line with the company\\u2019s \\n\\noverall objectives. \\n\\n\\u2022 Oversee and direct all research and development activities. \\n\\n\\u2022 Manage the research and development budget effectively. \\n\\n\\u2022 Continuously monitor the progress of projects and initiatives. \\n\\n\\u2022 Lead and motivate research and development teams. \\n\\n\\u2022 Collaborate with other departments to ensure successful product launches and \\n\\nimplementations. \\n\\n\\u2022 Analyze market trends and customer feedback to identify areas for product \\n\\nimprovements\",\n",
      "            \"id\": null,\n",
      "            \"title\": \"role_library.pdf\",\n",
      "            \"filepath\": null,\n",
      "            \"url\": null,\n",
      "            \"metadata\": {\n",
      "                \"chunking\": \"orignal document size=508. Scores=0.6853936910629272Org Highlight count=42.\"\n",
      "            },\n",
      "            \"chunk_id\": \"0\"\n",
      "        },\n",
      "        {\n",
      "            \"content\": \". \\n\\n\\u2022 Excellent leadership and communication skills. \\n\\n\\u2022 Strong organizational skills and attention to detail. \\n\\n\\u2022 Ability to work independently and as part of a team. \\n\\n\\u2022 Knowledge of applicable laws, regulations, and policies. \\n\\n\\u2022 Proficiency with Microsoft Office Suite, project management software, and other related \\n\\nsoftware. \\n\\nSenior Manager of Human Resources \\n \\n\\nJob Title: Senior Manager of Human Resources  \\n\\nCompany: Contoso Electronics \\n\\n \\n\\nOverview: \\n\\nContoso Electronics is looking for an experienced Senior Manager of Human Resources to \\n\\njoin their team. This position will be responsible for overseeing the recruitment, \\n\\ndevelopment, and retention of employees at all levels of the company. The Senior Manager \\n\\nof Human Resources will provide leadership and direction to the Human Resources team, \\n\\nensuring that all processes and procedures are followed and that the department meets its \\n\\ngoals and objectives. \\n\\n \\n\\nResponsibilities: \\n\\n\\u2022 Develop and implement human resources strategies and initiatives that align with the \\n\\noverall business goals and objectives \\n\\n\\u2022 Lead the recruitment process, including sourcing, screening, interviewing, and onboarding \\n\\nnew employees \\n\\n\\u2022 Oversee the development and implementation of employee training and development \\n\\nprograms \\n\\n\\u2022 Monitor and evaluate performance management processes \\n\\n\\u2022 Develop and maintain company policies and procedures \\n\\n\\u2022 Ensure compliance with all applicable employment laws and regulations \\n\\n\\u2022 Provide guidance and support to managers and supervisors on employee relations \\n\\nmatters \\n\\n\\u2022 Oversee the performance appraisal process and ensure that performance objectives are \\n\\nmet \\n\\n\\u2022 Assist with salary and compensation reviews \\n\\n\\u2022 Manage employee benefits and retirement plans \\n\\n\\u2022 Manage employee relations and handle employee disputes \\n\\n\\u2022 Organize employee activities and team-building events \\n\\n \\n\\nQualifications: \\n\\n\\u2022 Bachelor\\u2019s degree in Human Resources or a related field  \\n\\npageimage20\",\n",
      "            \"id\": null,\n",
      "            \"title\": \"role_library.pdf\",\n",
      "            \"filepath\": null,\n",
      "            \"url\": null,\n",
      "            \"metadata\": {\n",
      "                \"chunking\": \"orignal document size=437. Scores=0.6501608490943909Org Highlight count=38.\"\n",
      "            },\n",
      "            \"chunk_id\": \"0\"\n",
      "        },\n",
      "        {\n",
      "            \"content\": \". \\n\\n \\n\\n\\u2022 Excellent project management and organizational skills. \\n\\n \\n\\n\\u2022 Ability to work independently and collaboratively with cross-functional teams. \\n\\n \\n\\n\\u2022 Strong knowledge of product development processes and product lifecycles. \\n\\n \\n\\n\\u2022 Ability to analyze customer feedback and develop strategies to meet customer needs. \\n\\n \\n\\n\\u2022 Ability to develop and manage product budgets. \\n\\n \\n\\n\\u2022 Proficiency in Microsoft Office Suite. \\n\\nManager of Sales \\n \\n\\nJob Title: Manager of Sales, Contoso Electronics \\n\\n \\n\\nJob Summary: \\n\\nThe Manager of Sales will be responsible for leading, managing and motivating the sales \\n\\nteam to exceed sales objectives and targets. This person will also be in charge of developing \\n\\nand implementing successful sales strategies, analyzing sales and market data, and \\n\\ncontinuously evaluating the performance of the sales team and sales processes. \\n\\n \\n\\nResponsibilities: \\n\\n \\n\\npageimage23.jpg\\n\\n\\n\\n\\n\\n\\u2022 Lead, manage, and motivate the sales team to ensure that targets and objectives are met. \\n\\n\\u2022 Develop and implement successful sales strategies and processes. \\n\\n\\u2022 Analyze sales and market data in order to identify trends, opportunities, and areas for \\n\\nimprovement. \\n\\n\\u2022 Develop and maintain relationships with key customers and vendors. \\n\\n\\u2022 Ensure that all sales activities are conducted in accordance with company policies and \\n\\nprocedures. \\n\\n\\u2022 Monitor sales team performance and provide regular feedback and coaching. \\n\\n\\u2022 Develop and manage the sales budget. \\n\\n\\u2022 Develop and implement sales plans and forecasts. \\n\\n\\u2022 Monitor competitor activity and adjust sales strategy accordingly. \\n\\n\\u2022 Ensure that all customer inquiries and complaints are addressed in a timely manner. \\n\\n \\n\\nQualifications: \\n\\n \\n\\n\\u2022 Bachelor's degree in business, marketing, or a related field. \\n\\n\\u2022 At least 5 years of experience in sales management. \\n\\n\\u2022 Excellent communication, negotiation, and interpersonal skills. \\n\\n\\u2022 Ability to analyze sales and market data. \\n\\n\\u2022 Strong leadership and organizational skills. \\n\\n\\u2022 Proficiency in Microsoft Office and other related software applications. \\n\\n\\u2022 Knowledge of sales strategies and processes. \\n\\n\\u2022 Ability to work well with a team. \\n\\n\\u2022 Ability to motivate and inspire others\",\n",
      "            \"id\": null,\n",
      "            \"title\": \"role_library.pdf\",\n",
      "            \"filepath\": null,\n",
      "            \"url\": null,\n",
      "            \"metadata\": {\n",
      "                \"chunking\": \"orignal document size=510. Scores=0.6450865268707275Org Highlight count=43.\"\n",
      "            },\n",
      "            \"chunk_id\": \"0\"\n",
      "        }\n",
      "    ],\n",
      "    \"intent\": \"[\\\"List of job roles and their descriptions\\\"]\"\n",
      "}\n"
     ]
    }
   ],
   "source": [
    "content_string = completion['choices'][0]['message']['context']['messages'][0]['content']\n",
    "\n",
    "# Load the string as a JSON object\n",
    "content_json = json.loads(content_string)\n",
    "\n",
    "# Pretty print the JSON object\n",
    "pretty_content = json.dumps(content_json, indent=4)\n",
    "print(pretty_content)"
   ]
  },
  {
   "cell_type": "markdown",
   "metadata": {},
   "source": [
    "### Follow up Question"
   ]
  },
  {
   "cell_type": "code",
   "execution_count": 29,
   "metadata": {},
   "outputs": [
    {
     "data": {
      "text/plain": [
       "[{'role': 'user',\n",
       "  'content': 'List 3 job roles and a brief description for each one'},\n",
       " {'role': 'assistant',\n",
       "  'content': '1. **Gerente de Recursos Humanos**: Este papel é responsável por supervisionar o recrutamento, desenvolvimento e retenção de funcionários em todos os níveis da empresa. O Gerente Sênior de Recursos Humanos fornece liderança e direção para a equipe de Recursos Humanos, garantindo que todos os processos e procedimentos sejam seguidos e que o departamento atinja seus objetivos e metas[doc4].\\n\\n2. **Gerente de Pesquisa e Desenvolvimento**: O Gerente de Pesquisa e Desenvolvimento da Contoso Electronics cria e lidera as atividades de pesquisa e desenvolvimento da empresa. Este cargo é responsável por projetar e implementar soluções inovadoras para maximizar o desempenho do produto e otimizar a satisfação do cliente[doc1].\\n\\n3. **Vice-Presidente de Operações**: O Vice-Presidente de Operações da Contoso Electronics é responsável por supervisionar as operações diárias do negócio e liderar a equipe de operações. O VP de Operações é responsável por desenvolver e executar planos estratégicos para aumentar a eficiência, reduzir custos e maximizar a lucratividade[doc2].'},\n",
       " {'role': 'user', 'content': 'Tell me a little bit more about the second one'}]"
      ]
     },
     "execution_count": 29,
     "metadata": {},
     "output_type": "execute_result"
    }
   ],
   "source": [
    "message_text.append({\"role\": \"assistant\", \"content\": completion['choices'][0]['message']['content']})\n",
    "message_text.append({\"role\": \"user\", \"content\": \"Tell me a little bit more about the second one\"})\n",
    "message_text"
   ]
  },
  {
   "cell_type": "code",
   "execution_count": 30,
   "metadata": {},
   "outputs": [
    {
     "data": {
      "text/plain": [
       "'O Gerente de Pesquisa e Desenvolvimento da Contoso Electronics é responsável por criar e liderar as atividades de pesquisa e desenvolvimento da empresa. Este papel envolve a concepção e implementação de soluções inovadoras para maximizar o desempenho do produto e otimizar a satisfação do cliente. As responsabilidades incluem o desenvolvimento e implementação de estratégias para pesquisa e desenvolvimento, o design, teste e otimização de produtos para a satisfação ideal do cliente, e a gestão de uma equipe de pesquisadores e engenheiros para criar produtos inovadores. Além disso, o Gerente de Pesquisa e Desenvolvimento monitora o processo de desenvolvimento para garantir que os prazos sejam cumpridos, analisa o feedback do cliente e faz as alterações necessárias nos designs dos produtos[doc1].'"
      ]
     },
     "execution_count": 30,
     "metadata": {},
     "output_type": "execute_result"
    }
   ],
   "source": [
    "completion = run_chat_completion(message_text)\n",
    "\n",
    "completion['choices'][0]['message']['content']"
   ]
  },
  {
   "cell_type": "code",
   "execution_count": 31,
   "metadata": {},
   "outputs": [
    {
     "name": "stdout",
     "output_type": "stream",
     "text": [
      "{\n",
      "    \"citations\": [\n",
      "        {\n",
      "            \"content\": \". \\n\\n\\u2022 Oversee the recruitment and selection process, ensuring that hiring and promotion \\n\\ndecisions are made in compliance with applicable laws and regulations. \\n\\n\\u2022 Monitor employee performance, providing feedback and coaching as necessary. \\n\\n\\u2022 Develop compensation and benefit strategies to attract and retain top talent. \\n\\n\\u2022 Handle employee relations issues such as disciplinary actions, grievances, and \\n\\nperformance management. \\n\\n\\u2022 Ensure compliance with all applicable labor laws and regulations. \\n\\n\\u2022 Develop and maintain relationships with external vendors and service providers. \\n\\n\\u2022 Monitor and analyze employee engagement and satisfaction. \\n\\n\\u2022 Ensure a safe and healthy work environment. \\n\\npageimage26.jpg\\n\\n\\n\\n\\n\\n\\u2022 Lead the Human Resources department in a manner that supports and guides the \\n\\nachievement of the overall business objectives of the organization. \\n\\n \\n\\nQualifications: \\n\\n\\u2022 Bachelor\\u2019s degree in Human Resources, Business Administration, or a related field. \\n\\n\\u2022 At least 5 years of experience in a Human Resources role. \\n\\n\\u2022 Excellent written and verbal communication skills. \\n\\n\\u2022 Demonstrated ability to lead and manage change. \\n\\n\\u2022 Proficiency with Microsoft Office Suite. \\n\\n\\u2022 Knowledge of applicable labor laws and regulations. \\n\\n\\u2022 Ability to maintain confidentiality and discretion in all matters. \\n\\n\\u2022 Demonstrated ability to think strategically and develop innovative solutions. \\n\\n\\u2022 Strong interpersonal, problem solving, and organizational skills. \\n\\nManager of Research and Development \\n \\n\\nJOB DESCRIPTION  \\n\\n \\n\\nPosition Summary:  \\n\\nThe Manager of Research and Development for Contoso Electronics will create and lead the \\n\\nresearch and development activities of the company. This position will be responsible for \\n\\ndesigning and implementing innovative solutions to maximize product performance and \\n\\noptimize customer satisfaction.  \\n\\n \\n\\nResponsibilities:  \\n\\n\\u2022 Develop and implement strategies for research and development.  \\n\\n\\u2022 Design, test, and optimize products for optimal customer satisfaction.  \\n\\n\\u2022 Manage team of researchers and engineers to create innovative products.  \\n\\n\\u2022 Monitor the development process and ensure deadlines are met.  \\n\\n\\u2022 Analyze customer feedback and make necessary changes to product designs.  \\n\\n\\u2022 Collaborate with marketing, sales, and operations teams to ensure product success\",\n",
      "            \"id\": null,\n",
      "            \"title\": \"role_library.pdf\",\n",
      "            \"filepath\": null,\n",
      "            \"url\": null,\n",
      "            \"metadata\": {\n",
      "                \"chunking\": \"orignal document size=510. Scores=0.7575827240943909Org Highlight count=59.\"\n",
      "            },\n",
      "            \"chunk_id\": \"0\"\n",
      "        },\n",
      "        {\n",
      "            \"content\": \".  \\n\\n \\n\\nResponsibilities: \\n\\n\\u2022 Develop, implement and monitor comprehensive HR strategies and initiatives \\n\\n\\u2022 Foster a positive and productive work environment \\n\\n\\u2022 Collaborate with other departments to ensure alignment of HR initiatives with the \\n\\ncompany\\u2019s overall strategy \\n\\n\\u2022 Oversee the recruitment and onboarding process \\n\\n\\u2022 Develop, implement and monitor training and development initiatives  \\n\\n\\u2022 Manage employee relations, including conflict resolution, disciplinary action and \\n\\nperformance management \\n\\n\\u2022 Develop and implement compensation and benefit plans \\n\\n\\u2022 Track and analyze HR metrics \\n\\n\\u2022 Ensure compliance with all applicable laws and regulations \\n\\n\\u2022 Develop and monitor HR budgets  \\n\\n\\u2022 Stay up-to-date on the latest HR trends and best practices \\n\\n \\n\\nQualifications: \\n\\n\\u2022 Bachelor\\u2019s Degree in Human Resources, Business Administration or related field \\n\\n\\u2022 Proven work experience as a VP of Human Resources or similar role  \\n\\n\\u2022 Demonstrated leadership experience  \\n\\n\\u2022 Excellent interpersonal and communication skills \\n\\n\\u2022 Knowledge of labor laws and regulations  \\n\\n\\u2022 Strong analytical, problem-solving and decision-making skills \\n\\n\\u2022 Ability to lead and motivate teams  \\n\\n\\u2022 Proficiency in Microsoft Office Suite \\n\\nVice President of Research and Development \\n \\n\\nJob Title: Vice President of Research and Development, Contoso Electronics \\n\\n \\n\\nJob Summary: \\n\\nThe Vice President of Research and Development is responsible for leading Contoso \\n\\nElectronics\\u2019 research and development activities and initiatives. This position will focus on \\n\\npageimage9.jpg\\n\\n\\n\\n\\n\\ninnovating new products and technologies, and driving the product roadmap.  \\n\\n \\n\\nResponsibilities: \\n\\n\\u2022 Develop a comprehensive research and development strategy in line with the company\\u2019s \\n\\noverall objectives. \\n\\n\\u2022 Oversee and direct all research and development activities. \\n\\n\\u2022 Manage the research and development budget effectively. \\n\\n\\u2022 Continuously monitor the progress of projects and initiatives. \\n\\n\\u2022 Lead and motivate research and development teams. \\n\\n\\u2022 Collaborate with other departments to ensure successful product launches and \\n\\nimplementations. \\n\\n\\u2022 Analyze market trends and customer feedback to identify areas for product \\n\\nimprovements\",\n",
      "            \"id\": null,\n",
      "            \"title\": \"role_library.pdf\",\n",
      "            \"filepath\": null,\n",
      "            \"url\": null,\n",
      "            \"metadata\": {\n",
      "                \"chunking\": \"orignal document size=508. Scores=0.7870710492134094Org Highlight count=64.\"\n",
      "            },\n",
      "            \"chunk_id\": \"0\"\n",
      "        },\n",
      "        {\n",
      "            \"content\": \".jpg\\n\\n\\n\\n\\n\\n\\u2022 Proven experience as a Human Resources Manager or similar role \\n\\n\\u2022 Experience in developing and implementing HR strategies, policies, and procedures \\n\\n\\u2022 Excellent knowledge of labor laws and employee benefits \\n\\n\\u2022 Strong leadership, interpersonal, and communication skills \\n\\n\\u2022 Ability to analyze and interpret data \\n\\n\\u2022 Proficiency in MS Office, HRIS systems, and other related software \\n\\n\\u2022 Certification in Human Resources (e.g. PHR or SHRM-CP) is preferred \\n\\nSenior Manager of Research and Development \\n \\n\\nJob Title: Senior Manager of Research and Development, Contoso Electronics \\n\\n \\n\\nJob Summary: \\n\\nThe Senior Manager of Research and Development will lead the research and development \\n\\nteam at Contoso Electronics. This position requires a highly motivated individual with a \\n\\npassion for technology and innovation. The Senior Manager will be responsible for \\n\\noverseeing the research and development process, ensuring that projects are completed in \\n\\na timely manner, and leading the team to success. \\n\\n \\n\\nResponsibilities: \\n\\n- Develop strategies to ensure that research and development initiatives are effective and \\n\\nsuccessful \\n\\n- Oversee and manage all research and development projects \\n\\n- Lead and motivate the research and development team to ensure that projects are \\n\\ncompleted in a timely manner \\n\\n- Analyze data and develop new and innovative products \\n\\n- Work cross-functionally with other departments to ensure that products are developed in \\n\\nline with company goals \\n\\n- Research and develop new technologies to stay ahead of the competition \\n\\n- Monitor the performance of the research and development team to ensure that projects \\n\\nare completed on time and within budget \\n\\n- Develop and maintain relationships with industry partners and vendors \\n\\n \\n\\nQualifications: \\n\\n- Bachelor\\u2019s degree in a related field such as engineering, computer science, or business \\n\\n- 5+ years of experience in a research and development role \\n\\n- Demonstrated ability to lead and motivate a team \\n\\n- Excellent organizational skills and attention to detail \\n\\n- Ability to analyze data and make decisions quickly \\n\\n- Proven track record of successful product development \\n\\n- Excellent communication and interpersonal skills \\n\\n- Ability to think strategically and innovate new products and technologies \\n\\npageimage21\",\n",
      "            \"id\": null,\n",
      "            \"title\": \"role_library.pdf\",\n",
      "            \"filepath\": null,\n",
      "            \"url\": null,\n",
      "            \"metadata\": {\n",
      "                \"chunking\": \"orignal document size=511. Scores=0.8048789501190186Org Highlight count=79.\"\n",
      "            },\n",
      "            \"chunk_id\": \"0\"\n",
      "        },\n",
      "        {\n",
      "            \"content\": \".jpg\\n\\n\\n\\n\\n\\n\\u2022 Manage performance review process and identify areas for improvement \\n\\n\\u2022 Provide guidance and support to managers on disciplinary action \\n\\n\\u2022 Maintain employee records and manage payroll \\n\\n \\n\\nQUALIFICATIONS: \\n\\n\\u2022 Bachelor\\u2019s degree in Human Resources, Business Administration, or related field \\n\\n\\u2022 At least 8 years of experience in Human Resources, including at least 5 years in a \\n\\nmanagerial role \\n\\n\\u2022 Knowledgeable in Human Resources principles, theories, and practices \\n\\n\\u2022 Excellent communication and interpersonal skills \\n\\n\\u2022 Ability to lead, motivate, and develop a high-performing HR team \\n\\n\\u2022 Strong analytical and problem-solving skills \\n\\n\\u2022 Ability to handle sensitive information with discretion \\n\\n\\u2022 Proficient in Microsoft Office Suite \\n\\nDirector of Research and Development \\n \\n\\nJob Title: Director of Research and Development, Contoso Electronics \\n\\n \\n\\nPosition Summary: \\n\\n \\n\\nThe Director of Research and Development is a critical leadership role in Contoso \\n\\nElectronics. This position is responsible for leading the research, development and \\n\\ninnovation of our products and services. This role will be responsible for identifying, \\n\\ndeveloping, and executing initiatives to drive innovation, production, and operational \\n\\nexcellence. The Director of Research and Development will also be responsible for leading a \\n\\nteam of professionals in the research, development and deployment of both existing and \\n\\nnew products and services. \\n\\n \\n\\nResponsibilities: \\n\\n \\n\\n\\u2022 Lead the research, development, and innovation of our products and services \\n\\n\\u2022 Identify and develop new initiatives to drive innovation, production, and operational \\n\\nexcellence \\n\\n\\u2022 Develop and implement strategies for rapid and cost effective product and service \\n\\ndevelopment \\n\\n\\u2022 Lead a team of professionals in research, development and deployment of both existing \\n\\nand new products and services \\n\\n\\u2022 Manage external relationships with suppliers, vendors, and partners \\n\\n\\u2022 Stay abreast of industry trends and best practices in product and service development \\n\\n\\u2022 Monitor product and service performance and suggest/implement improvements \\n\\n\\u2022 Manage the budget and ensure cost efficiency \\n\\npageimage15\",\n",
      "            \"id\": null,\n",
      "            \"title\": \"role_library.pdf\",\n",
      "            \"filepath\": null,\n",
      "            \"url\": null,\n",
      "            \"metadata\": {\n",
      "                \"chunking\": \"orignal document size=485. Scores=0.8180912733078003Org Highlight count=71.\"\n",
      "            },\n",
      "            \"chunk_id\": \"0\"\n",
      "        },\n",
      "        {\n",
      "            \"content\": \".  \\n\\n\\u2022 Lead the development of new products and technologies.  \\n\\n\\u2022 Create detailed reports and presentations on research and development activities.  \\n\\n\\u2022 Stay current on industry trends, technologies, and regulations. \\n\\n \\n\\nQualifications:  \\n\\n\\u2022 Bachelor\\u2019s degree in engineering, computer science, or related field.  \\n\\n\\u2022 7+ years of experience in research and development in the electronics sector.  \\n\\n\\u2022 Proven track record of successfully designing, testing, and optimizing products.  \\n\\n\\u2022 Experience leading a team of researchers and engineers.  \\n\\n\\u2022 Excellent problem-solving and analytical skills.  \\n\\n\\u2022 Ability to work in a fast-paced environment and meet tight deadlines.  \\n\\npageimage27.jpg\\n\\n\\n\\n\\n\\n\\u2022 Knowledge of industry trends, technologies, and regulations.  \\n\\n\\u2022 Excellent communication and presentation skills. \\n\\nManager of Product Management \\n \\n\\n \\n\\nJob Title: Manager of Product Management, Contoso Electronics \\n\\n \\n\\nJob Summary: \\n\\nThe Manager of Product Management is responsible for overseeing the product \\n\\nmanagement team, driving product development and marketing strategy for Contoso \\n\\nElectronics. This individual will be accountable for the successful launch of new products \\n\\nand the implementation of product life-cycle management processes. The Manager of \\n\\nProduct Management will collaborate with internal teams, such as engineering, sales, \\n\\nmarketing, and finance, as well as external partners, suppliers, and customers to ensure \\n\\nsuccessful product execution. \\n\\n \\n\\nResponsibilities: \\n\\n\\u2022 Lead the product management team and provide guidance on product strategy, design, \\n\\ndevelopment, and launch. \\n\\n\\u2022 Develop and implement product life-cycle management processes. \\n\\n\\u2022 Monitor and analyze industry trends to identify opportunities for new products. \\n\\n\\u2022 Develop product marketing plans and go-to-market strategies. \\n\\n\\u2022 Research customer needs and develop customer-centric product roadmaps. \\n\\n\\u2022 Collaborate with internal teams to ensure product execution and successful launch. \\n\\n\\u2022 Develop pricing strategies and cost models. \\n\\n\\u2022 Oversee product portfolio and performance metrics. \\n\\n\\u2022 Manage product development budget. \\n\\n\\u2022 Analyze product performance and customer feedback to identify areas for improvement\",\n",
      "            \"id\": null,\n",
      "            \"title\": \"role_library.pdf\",\n",
      "            \"filepath\": null,\n",
      "            \"url\": null,\n",
      "            \"metadata\": {\n",
      "                \"chunking\": \"orignal document size=500. Scores=0.6649050116539001Org Highlight count=55.\"\n",
      "            },\n",
      "            \"chunk_id\": \"0\"\n",
      "        }\n",
      "    ],\n",
      "    \"intent\": \"[\\\"Detailed job description and responsibilities of a Research and Development Manager\\\", \\\"Role of a Research and Development Manager in a company\\\", \\\"Skills required for a Research and Development Manager\\\"]\"\n",
      "}\n"
     ]
    }
   ],
   "source": [
    "content_string = completion['choices'][0]['message']['context']['messages'][0]['content']\n",
    "\n",
    "# Load the string as a JSON object\n",
    "content_json = json.loads(content_string)\n",
    "\n",
    "# Pretty print the JSON object\n",
    "pretty_content = json.dumps(content_json, indent=4)\n",
    "print(pretty_content)"
   ]
  },
  {
   "cell_type": "code",
   "execution_count": 32,
   "metadata": {},
   "outputs": [
    {
     "data": {
      "text/plain": [
       "[{'role': 'user',\n",
       "  'content': 'List 3 job roles and a brief description for each one'},\n",
       " {'role': 'assistant',\n",
       "  'content': '1. **Gerente de Recursos Humanos**: Este papel é responsável por supervisionar o recrutamento, desenvolvimento e retenção de funcionários em todos os níveis da empresa. O Gerente Sênior de Recursos Humanos fornece liderança e direção para a equipe de Recursos Humanos, garantindo que todos os processos e procedimentos sejam seguidos e que o departamento atinja seus objetivos e metas[doc4].\\n\\n2. **Gerente de Pesquisa e Desenvolvimento**: O Gerente de Pesquisa e Desenvolvimento da Contoso Electronics cria e lidera as atividades de pesquisa e desenvolvimento da empresa. Este cargo é responsável por projetar e implementar soluções inovadoras para maximizar o desempenho do produto e otimizar a satisfação do cliente[doc1].\\n\\n3. **Vice-Presidente de Operações**: O Vice-Presidente de Operações da Contoso Electronics é responsável por supervisionar as operações diárias do negócio e liderar a equipe de operações. O VP de Operações é responsável por desenvolver e executar planos estratégicos para aumentar a eficiência, reduzir custos e maximizar a lucratividade[doc2].'},\n",
       " {'role': 'user', 'content': 'Tell me a little bit more about the second one'},\n",
       " {'role': 'assistant',\n",
       "  'content': 'O Gerente de Pesquisa e Desenvolvimento da Contoso Electronics é responsável por criar e liderar as atividades de pesquisa e desenvolvimento da empresa. Este papel envolve a concepção e implementação de soluções inovadoras para maximizar o desempenho do produto e otimizar a satisfação do cliente. As responsabilidades incluem o desenvolvimento e implementação de estratégias para pesquisa e desenvolvimento, o design, teste e otimização de produtos para a satisfação ideal do cliente, e a gestão de uma equipe de pesquisadores e engenheiros para criar produtos inovadores. Além disso, o Gerente de Pesquisa e Desenvolvimento monitora o processo de desenvolvimento para garantir que os prazos sejam cumpridos, analisa o feedback do cliente e faz as alterações necessárias nos designs dos produtos[doc1].'},\n",
       " {'role': 'user',\n",
       "  'content': 'Now tell me a little bit more about the third one'}]"
      ]
     },
     "execution_count": 32,
     "metadata": {},
     "output_type": "execute_result"
    }
   ],
   "source": [
    "message_text.append({\"role\": \"assistant\", \"content\": completion['choices'][0]['message']['content']})\n",
    "message_text.append({\"role\": \"user\", \"content\": \"Now tell me a little bit more about the third one\"})\n",
    "message_text"
   ]
  },
  {
   "cell_type": "code",
   "execution_count": 34,
   "metadata": {},
   "outputs": [
    {
     "data": {
      "text/plain": [
       "'O Vice-Presidente de Operações da Contoso Electronics é responsável por supervisionar as operações diárias do negócio e liderar a equipe de operações. Este papel envolve o desenvolvimento de metas e objetivos de curto e longo prazo para garantir o sucesso organizacional. O VP de Operações monitora o desempenho operacional para garantir a conformidade com os padrões estabelecidos, estabelece e mantém fortes relações de trabalho com as partes interessadas internas e externas, e lidera o desenvolvimento de políticas e procedimentos operacionais. Além disso, o VP de Operações identifica e implementa melhorias de processo para aumentar a eficiência e garante que os padrões de segurança e regulamentos legais sejam cumpridos. Este papel requer um diploma de bacharel em negócios, operações ou um campo relacionado, e mais de 10 anos de experiência em gestão de operações e/ou operações de negócios[doc1].'"
      ]
     },
     "execution_count": 34,
     "metadata": {},
     "output_type": "execute_result"
    }
   ],
   "source": [
    "completion = run_chat_completion(message_text)\n",
    "\n",
    "completion['choices'][0]['message']['content']"
   ]
  },
  {
   "cell_type": "code",
   "execution_count": 35,
   "metadata": {},
   "outputs": [
    {
     "name": "stdout",
     "output_type": "stream",
     "text": [
      "{\n",
      "    \"citations\": [\n",
      "        {\n",
      "            \"content\": \".  \\n\\n\\u2022 Monitor operational performance to ensure compliance with established standards.  \\n\\n\\u2022 Establish and maintain strong working relationships with internal and external \\n\\nstakeholders.  \\n\\n\\u2022 Lead the development of operational policies and procedures.  \\n\\n\\u2022 Develop short- and long-term goals and objectives to ensure organizational success.  \\n\\n\\u2022 Identify and implement process improvements to increase efficiency.  \\n\\n\\u2022 Ensure safety standards and legal regulations are met.  \\n\\n\\u2022 Stay up-to-date with industry trends and best practices.  \\n\\n \\n\\nQualifications:  \\n\\n\\u2022 Bachelor\\u2019s degree in business, operations, or a related field.  \\n\\n\\u2022 10+ years of experience in operations management and/or business operations.  \\n\\n\\u2022 Proven track record of successfully leading operational teams and achieving \\n\\norganizational goals.  \\n\\n\\u2022 Excellent problem-solving and decision-making skills.  \\n\\n\\u2022 Strong project management and organizational skills.  \\n\\n\\u2022 Ability to manage multiple tasks and prioritize effectively.  \\n\\n\\u2022 Excellent communication and interpersonal skills.  \\n\\n\\u2022 Proficiency in Microsoft Office and other relevant software.  \\n\\n\\u2022 Ability to work in a fast-paced environment.  \\n\\n\\u2022 Knowledge of industry regulations and safety standards. \\n\\nVice President of Human Resources \\n \\n\\nJob Title: Vice President of Human Resources \\n\\n \\n\\nCompany: Contoso Electronics \\n\\n \\n\\npageimage8.jpg\\n\\n\\n\\n\\n\\nLocation: Anywhere, USA \\n\\n \\n\\nPosition Summary: \\n\\n \\n\\nThe Vice President of Human Resources for Contoso Electronics will be responsible for \\n\\nleading the Human Resources team in developing and implementing strategies that support \\n\\nthe company\\u2019s long-term objectives. The Vice President of Human Resources will be \\n\\nresponsible for driving the company\\u2019s overall HR strategy and policies, and will be the \\n\\nprimary contact for all HR-related matters\",\n",
      "            \"id\": null,\n",
      "            \"title\": \"role_library.pdf\",\n",
      "            \"filepath\": null,\n",
      "            \"url\": null,\n",
      "            \"metadata\": {\n",
      "                \"chunking\": \"orignal document size=433. Scores=0.7347962856292725Org Highlight count=45.\"\n",
      "            },\n",
      "            \"chunk_id\": \"0\"\n",
      "        },\n",
      "        {\n",
      "            \"content\": \".  \\n\\n \\n\\nResponsibilities: \\n\\n \\n\\n\\u2022 Develop, implement, and monitor strategies, policies, and procedures for the \\n\\norganization\\u2019s short-term and long-term success  \\n\\n\\u2022 Oversee daily operations and ensure that all departments are meeting their goals and \\n\\nobjectives  \\n\\n\\u2022 Create and manage key performance indicators for all departments  \\n\\n\\u2022 Analyze existing systems and processes, identify areas of improvement, and implement \\n\\nsolutions  \\n\\n\\u2022 Develop and nurture relationships with key stakeholders, including customers and \\n\\nvendors  \\n\\n\\u2022 Act as an advisor to the CEO, board of directors, and executive team  \\n\\n\\u2022 Prepare and present reports to the board of directors  \\n\\n\\u2022 Manage the budget and ensure that the organization is operating within its means  \\n\\n\\u2022 Ensure compliance with all relevant laws and regulations  \\n\\n \\n\\nQualifications: \\n\\n \\n\\n\\u2022 Bachelor\\u2019s degree in business administration, management, or a related field  \\n\\n\\u2022 Proven experience as a COO or senior operations executive  \\n\\n\\u2022 Demonstrated ability to develop and implement strategies, policies, and procedures  \\n\\n\\u2022 Excellent organizational and project management skills  \\n\\n\\u2022 Strong problem-solving and decision-making skills  \\n\\n\\u2022 Excellent communication and interpersonal skills  \\n\\n\\u2022 Ability to work independently and in a team environment  \\n\\n\\u2022 Knowledge of relevant laws and regulations  \\n\\n\\u2022 Proficiency in Microsoft Office and other relevant software \\n\\npageimage3.jpg\\n\\n\\n\\n\\n\\nChief Financial Officer \\n \\n\\nJOB DESCRIPTION: Chief Financial Officer \\n\\n \\n\\nCompany: Contoso Electronics \\n\\n \\n\\nPosition Summary: \\n\\n \\n\\nThe Chief Financial Officer (CFO) is a key member of Contoso Electronics\\u2019 leadership team. \\n\\nThe CFO is responsible for providing strategic direction, support, and guidance to Contoso \\n\\nElectronics\\u2019 financial operations, ensuring the financial health of the organization. The CFO \\n\\nwill lead all financial operations, including accounting, financial planning and analysis, \\n\\nbudgeting, forecasting, financial reporting, and risk management\",\n",
      "            \"id\": null,\n",
      "            \"title\": \"role_library.pdf\",\n",
      "            \"filepath\": null,\n",
      "            \"url\": null,\n",
      "            \"metadata\": {\n",
      "                \"chunking\": \"orignal document size=481. Scores=0.7202435731887817Org Highlight count=48.\"\n",
      "            },\n",
      "            \"chunk_id\": \"0\"\n",
      "        },\n",
      "        {\n",
      "            \"content\": \".  \\n\\n\\u2022 Lead the development of new products and technologies.  \\n\\n\\u2022 Create detailed reports and presentations on research and development activities.  \\n\\n\\u2022 Stay current on industry trends, technologies, and regulations. \\n\\n \\n\\nQualifications:  \\n\\n\\u2022 Bachelor\\u2019s degree in engineering, computer science, or related field.  \\n\\n\\u2022 7+ years of experience in research and development in the electronics sector.  \\n\\n\\u2022 Proven track record of successfully designing, testing, and optimizing products.  \\n\\n\\u2022 Experience leading a team of researchers and engineers.  \\n\\n\\u2022 Excellent problem-solving and analytical skills.  \\n\\n\\u2022 Ability to work in a fast-paced environment and meet tight deadlines.  \\n\\npageimage27.jpg\\n\\n\\n\\n\\n\\n\\u2022 Knowledge of industry trends, technologies, and regulations.  \\n\\n\\u2022 Excellent communication and presentation skills. \\n\\nManager of Product Management \\n \\n\\n \\n\\nJob Title: Manager of Product Management, Contoso Electronics \\n\\n \\n\\nJob Summary: \\n\\nThe Manager of Product Management is responsible for overseeing the product \\n\\nmanagement team, driving product development and marketing strategy for Contoso \\n\\nElectronics. This individual will be accountable for the successful launch of new products \\n\\nand the implementation of product life-cycle management processes. The Manager of \\n\\nProduct Management will collaborate with internal teams, such as engineering, sales, \\n\\nmarketing, and finance, as well as external partners, suppliers, and customers to ensure \\n\\nsuccessful product execution. \\n\\n \\n\\nResponsibilities: \\n\\n\\u2022 Lead the product management team and provide guidance on product strategy, design, \\n\\ndevelopment, and launch. \\n\\n\\u2022 Develop and implement product life-cycle management processes. \\n\\n\\u2022 Monitor and analyze industry trends to identify opportunities for new products. \\n\\n\\u2022 Develop product marketing plans and go-to-market strategies. \\n\\n\\u2022 Research customer needs and develop customer-centric product roadmaps. \\n\\n\\u2022 Collaborate with internal teams to ensure product execution and successful launch. \\n\\n\\u2022 Develop pricing strategies and cost models. \\n\\n\\u2022 Oversee product portfolio and performance metrics. \\n\\n\\u2022 Manage product development budget. \\n\\n\\u2022 Analyze product performance and customer feedback to identify areas for improvement\",\n",
      "            \"id\": null,\n",
      "            \"title\": \"role_library.pdf\",\n",
      "            \"filepath\": null,\n",
      "            \"url\": null,\n",
      "            \"metadata\": {\n",
      "                \"chunking\": \"orignal document size=500. Scores=0.6382889151573181Org Highlight count=47.\"\n",
      "            },\n",
      "            \"chunk_id\": \"0\"\n",
      "        },\n",
      "        {\n",
      "            \"content\": \".  \\n\\n \\n\\nResponsibilities: \\n\\n\\u2022 Develop and implement strategy and objectives to ensure the financial success and long-\\n\\nterm growth of the company  \\n\\n\\u2022 Provide strategic guidance and direction to the executive team and manage the day-to-day \\n\\noperations of the company \\n\\n\\u2022 Ensure compliance with all laws and regulations \\n\\n\\u2022 Oversee the development of marketing and advertising strategies  \\n\\n\\u2022 Develop and manage relationships with key stakeholders  \\n\\n\\u2022 Represent the company in speaking engagements and other public events  \\n\\n\\u2022 Manage and negotiate contracts with vendors and suppliers  \\n\\n\\u2022 Monitor industry trends and identify opportunities for growth  \\n\\n\\u2022 Develop and maintain a positive company culture  \\n\\n \\n\\nQualifications:  \\n\\n\\u2022 Bachelor\\u2019s degree in business or related field  \\n\\n\\u2022 10+ years of experience in executive management  \\n\\n\\u2022 Proven success in leading and managing a team  \\n\\n\\u2022 Strong problem-solving and analytical skills  \\n\\n\\u2022 Excellent communication and interpersonal skills  \\n\\n\\u2022 Ability to make strategic decisions  \\n\\n\\u2022 Knowledge of business finances  \\n\\n\\u2022 Knowledge of business operations  \\n\\n\\u2022 Knowledge of industry trends  \\n\\n\\u2022 Knowledge of applicable laws and regulations \\n\\npageimage2.jpg\\n\\n\\n\\n\\n\\nChief Operating Officer \\n \\n\\nJob Title: Chief Operating Officer \\n\\n \\n\\nCompany: Contoso Electronics \\n\\n \\n\\nLocation: Any major city \\n\\n \\n\\nPosition Summary: \\n\\n \\n\\nThe Chief Operating Officer (COO) at Contoso Electronics will be responsible for overseeing \\n\\nthe day-to-day operations of the entire organization and ensuring that the organization is \\n\\noperating in an efficient and effective manner. The COO will report to the CEO and will \\n\\ncollaborate with the executive team to provide strategic direction and guidance for the \\n\\norganization\",\n",
      "            \"id\": null,\n",
      "            \"title\": \"role_library.pdf\",\n",
      "            \"filepath\": null,\n",
      "            \"url\": null,\n",
      "            \"metadata\": {\n",
      "                \"chunking\": \"orignal document size=419. Scores=0.6045400500297546Org Highlight count=42.\"\n",
      "            },\n",
      "            \"chunk_id\": \"0\"\n",
      "        },\n",
      "        {\n",
      "            \"content\": \".jpg\\n\\n\\n\\n\\n\\nand industry standards \\n\\n\\u2022 Liaise with vendors, suppliers, and other external partners to ensure operational \\n\\nobjectives are met \\n\\n\\u2022 Monitor and evaluate performance of operational staff \\n\\n \\n\\nQualifications: \\n\\n \\n\\n\\u2022 Bachelor\\u2019s degree in Business Administration, Operations Management, or a related field \\n\\n\\u2022 Minimum of five years\\u2019 experience in an operations role \\n\\n\\u2022 Demonstrated understanding of operational management processes and strategies \\n\\n\\u2022 Excellent analytical, problem-solving, and organizational skills \\n\\n\\u2022 Proven ability to manage multiple projects and tasks simultaneously \\n\\n\\u2022 Highly organized, detail-oriented, and driven to achieve results \\n\\n\\u2022 Strong interpersonal and communication skills \\n\\n\\u2022 Proficient in Microsoft Office Suite, financial management software, and other relevant \\n\\nprograms \\n\\nDirector of Human Resources \\n \\n\\n \\n\\nJOB TITLE: Director of Human Resources, Contoso Electronics \\n\\n \\n\\nJOB SUMMARY: \\n\\nThe Director of Human Resources is responsible for developing and implementing human \\n\\nresource strategies and initiatives aligned with the overall business strategy of Contoso \\n\\nElectronics. This position requires an experienced and knowledgeable professional to serve \\n\\nas a strategic partner and business advisor to the executive management team. The Director \\n\\nof Human Resources will lead the HR team to provide the necessary guidance, direction, and \\n\\nsupport to ensure the continued success and growth of Contoso Electronics. \\n\\n \\n\\nRESPONSIBILITIES: \\n\\n\\u2022 Develop and implement human resource strategies and initiatives in line with the overall \\n\\nbusiness strategy \\n\\n\\u2022 Oversee the recruitment and selection process, including job postings, interviewing, \\n\\nhiring, and onboarding processes \\n\\n\\u2022 Act as a resource for all employee relations and compliance issues \\n\\n\\u2022 Ensure compliance with all applicable laws and regulations \\n\\n\\u2022 Develop and maintain HR policies and procedures \\n\\n\\u2022 Monitor and evaluate the effectiveness of HR programs and initiatives \\n\\n\\u2022 Analyze organizational development needs and create appropriate strategies \\n\\n\\u2022 Foster a culture of engagement, diversity, and inclusion \\n\\n\\u2022 Lead HR team to provide coaching and guidance to all employees \\n\\npageimage14\",\n",
      "            \"id\": null,\n",
      "            \"title\": \"role_library.pdf\",\n",
      "            \"filepath\": null,\n",
      "            \"url\": null,\n",
      "            \"metadata\": {\n",
      "                \"chunking\": \"orignal document size=481. Scores=0.6016678214073181Org Highlight count=55.\"\n",
      "            },\n",
      "            \"chunk_id\": \"0\"\n",
      "        }\n",
      "    ],\n",
      "    \"intent\": \"[\\\"Detailed job description and responsibilities of a Vice-President of Operations at Contoso Electronics\\\"]\"\n",
      "}\n"
     ]
    }
   ],
   "source": [
    "content_string = completion['choices'][0]['message']['context']['messages'][0]['content']\n",
    "\n",
    "# Load the string as a JSON object\n",
    "content_json = json.loads(content_string)\n",
    "\n",
    "# Pretty print the JSON object\n",
    "pretty_content = json.dumps(content_json, indent=4)\n",
    "print(pretty_content)"
   ]
  }
 ],
 "metadata": {
  "kernelspec": {
   "display_name": "base",
   "language": "python",
   "name": "python3"
  },
  "language_info": {
   "codemirror_mode": {
    "name": "ipython",
    "version": 3
   },
   "file_extension": ".py",
   "mimetype": "text/x-python",
   "name": "python",
   "nbconvert_exporter": "python",
   "pygments_lexer": "ipython3",
   "version": "3.9.18"
  }
 },
 "nbformat": 4,
 "nbformat_minor": 2
}

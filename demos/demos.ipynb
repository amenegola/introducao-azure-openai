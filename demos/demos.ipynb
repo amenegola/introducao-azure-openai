{
 "cells": [
  {
   "cell_type": "markdown",
   "metadata": {},
   "source": [
    "# QA over Documents with Azure Cognitive Search as Vector Database"
   ]
  },
  {
   "cell_type": "code",
   "execution_count": 3,
   "metadata": {},
   "outputs": [],
   "source": [
    "import os\n",
    "import openai\n",
    "from dotenv import load_dotenv\n",
    "from langchain.chat_models import ChatOpenAI\n",
    "from langchain.chains import RetrievalQA\n",
    "from langchain.embeddings.openai import OpenAIEmbeddings\n",
    "from langchain.vectorstores.azuresearch import AzureSearch\n",
    "from langchain.document_loaders import PyPDFDirectoryLoader\n",
    "from langchain.text_splitter import CharacterTextSplitter\n",
    "from langchain.agents import initialize_agent, Tool, AgentType\n",
    "\n",
    "\n",
    "load_dotenv(verbose=True)\n",
    "\n",
    "openai.api_type = os.getenv(\"OPENAI_API_TYPE\")\n",
    "openai.api_version = os.getenv(\"OPENAI_API_VERSION\")\n",
    "openai.api_key = os.getenv(\"OPENAI_API_KEY\")\n",
    "openai.api_base = os.getenv(\"OPENAI_API_BASE\")"
   ]
  },
  {
   "cell_type": "code",
   "execution_count": 4,
   "metadata": {},
   "outputs": [],
   "source": [
    "embeddings = OpenAIEmbeddings(deployment='text-embedding-ada-002')\n",
    "\n",
    "vector_store = AzureSearch(\n",
    "    azure_search_endpoint=os.getenv(\"VECTOR_STORE_ADDRESS\"),\n",
    "    azure_search_key=os.getenv(\"VECTOR_STORE_KEY\"),\n",
    "    index_name=\"langchain-vector-demo\",\n",
    "    embedding_function=embeddings.embed_query,\n",
    ")"
   ]
  },
  {
   "cell_type": "code",
   "execution_count": 5,
   "metadata": {},
   "outputs": [],
   "source": [
    "loader = PyPDFDirectoryLoader(\"pdfs\")\n",
    "\n",
    "documents = loader.load()\n",
    "text_splitter = CharacterTextSplitter(chunk_size=1000, chunk_overlap=0)\n",
    "docs = text_splitter.split_documents(documents)\n",
    "\n",
    "vector_store.add_documents(documents=docs);"
   ]
  },
  {
   "cell_type": "code",
   "execution_count": 7,
   "metadata": {},
   "outputs": [
    {
     "name": "stderr",
     "output_type": "stream",
     "text": [
      "WARNING! engine is not default parameter.\n",
      "                    engine was transferred to model_kwargs.\n",
      "                    Please confirm that engine is what you intended.\n"
     ]
    }
   ],
   "source": [
    "llm = ChatOpenAI(engine='gpt-4', verbose=True)\n",
    "\n",
    "qa = RetrievalQA.from_chain_type(\n",
    "    llm=llm, \n",
    "    chain_type=\"stuff\", \n",
    "    retriever=vector_store.as_retriever(),\n",
    "    return_source_documents=False\n",
    ")"
   ]
  },
  {
   "cell_type": "code",
   "execution_count": 8,
   "metadata": {},
   "outputs": [],
   "source": [
    "query = \"What does a product manager do?\"\n",
    "result = qa({\"query\": query})"
   ]
  },
  {
   "cell_type": "code",
   "execution_count": 9,
   "metadata": {},
   "outputs": [
    {
     "data": {
      "text/plain": [
       "{'query': 'What does a product manager do?',\n",
       " 'result': 'A product manager is responsible for overseeing the product management team and driving product development and marketing strategy. Their duties may include leading the product management team and providing guidance on product strategy, design, development, and launch. They also develop and implement product life-cycle management processes, monitor and analyze industry trends to identify opportunities for new products, and develop product marketing plans and go-to-market strategies. They research customer needs and develop customer-centric product roadmaps, collaborate with internal teams to ensure product execution and successful launch. Additionally, they develop pricing strategies and cost models, oversee product portfolio and performance metrics, manage product development budget, and analyze product performance and customer feedback to identify areas for improvement.',\n",
       " 'source_documents': [Document(page_content='• Knowledge of industry trends, technologies, and regulations.  \\n• Excellent communication and presentation ski lls. \\nManager of Product Management  \\n \\n \\nJob Title: Manager of Product Management, Contoso Electronics  \\n \\nJob Summary:  \\nThe Manager of Product Management is responsible for overseeing the product \\nmanagement team, driving product development and marketing strategy  for Contoso \\nElectronics. This individual will be accountable for the successful launch of new products \\nand the implementation of product life -cycle management processes. The Manager of \\nProduct Management will collaborate with internal teams, such as engin eering, sales, \\nmarketing, and finance, as well as external partners, suppliers, and customers to ensure \\nsuccessful product execution.  \\n \\nResponsibilities:  \\n• Lead the product management team and provide guidance on product strategy, design, \\ndevelopment, and l aunch.  \\n• Develop and implement product life -cycle management processes.  \\n• Monitor and analyze industry trends to identify opportunities for new products.  \\n• Develop product marketing plans and go -to-market strategies.  \\n• Research customer needs and develop c ustomer -centric product roadmaps.  \\n• Collaborate with internal teams to ensure product execution and successful launch.  \\n• Develop pricing strategies and cost models.  \\n• Oversee product portfolio and performance metrics.  \\n• Manage product development budget.  \\n• Analyze product performance and customer feedback to identify areas for improvement.  \\n \\nQualifications:  \\n• Bachelor’s degree in business, engineering, or a related field.  \\n• At least 5 years of experience in product management.  \\n• Proven track record of succes sful product launches.  \\n• Strong understanding of product life -cycle management processes.  \\n• Excellent project management, organizational, and communication skills.  \\n• Ability to work collaboratively with internal and external teams.  \\n• Ability to analyze cus tomer feedback and identify areas for improvement.  \\n• Experience with market research, product marketing, and pricing strategies.  \\n• Knowledge of budgeting and cost models.', metadata={'source': 'pdfs\\\\role_library.pdf', 'page': 28}),\n",
       "  Document(page_content='• Knowledge of industry trends, technologies, and regulations.  \\n• Excellent communication and presentation ski lls. \\nManager of Product Management  \\n \\n \\nJob Title: Manager of Product Management, Contoso Electronics  \\n \\nJob Summary:  \\nThe Manager of Product Management is responsible for overseeing the product \\nmanagement team, driving product development and marketing strategy  for Contoso \\nElectronics. This individual will be accountable for the successful launch of new products \\nand the implementation of product life -cycle management processes. The Manager of \\nProduct Management will collaborate with internal teams, such as engin eering, sales, \\nmarketing, and finance, as well as external partners, suppliers, and customers to ensure \\nsuccessful product execution.  \\n \\nResponsibilities:  \\n• Lead the product management team and provide guidance on product strategy, design, \\ndevelopment, and l aunch.  \\n• Develop and implement product life -cycle management processes.  \\n• Monitor and analyze industry trends to identify opportunities for new products.  \\n• Develop product marketing plans and go -to-market strategies.  \\n• Research customer needs and develop c ustomer -centric product roadmaps.  \\n• Collaborate with internal teams to ensure product execution and successful launch.  \\n• Develop pricing strategies and cost models.  \\n• Oversee product portfolio and performance metrics.  \\n• Manage product development budget.  \\n• Analyze product performance and customer feedback to identify areas for improvement.  \\n \\nQualifications:  \\n• Bachelor’s degree in business, engineering, or a related field.  \\n• At least 5 years of experience in product management.  \\n• Proven track record of succes sful product launches.  \\n• Strong understanding of product life -cycle management processes.  \\n• Excellent project management, organizational, and communication skills.  \\n• Ability to work collaboratively with internal and external teams.  \\n• Ability to analyze cus tomer feedback and identify areas for improvement.  \\n• Experience with market research, product marketing, and pricing strategies.  \\n• Knowledge of budgeting and cost models.', metadata={'source': 'pdfs\\\\role_library.pdf', 'page': 28}),\n",
       "  Document(page_content='Senior Manager of Product Management  \\n \\nJob Title: Senior Manager of Product Management  \\n \\nCompany: Contoso Electronics  \\n \\nLocation: Anywhere  \\n \\nJob Type: Full -Time  \\n \\nSalary: Competitive, commensurate with experience  \\n \\nJob Summary:  \\n \\nThe Senior Manager of Product Management will be responsible for leadi ng the product \\nmanagement team at Contoso Electronics. This role includes developing strategies, plans \\nand objectives for the product management team and managing the day -to-day operations. \\nThe Senior Manager of Product Management will be responsible for t he successful launch of \\nnew products and the optimization of existing products.  \\n \\nResponsibilities:  \\n \\n• Develop and implement product management strategies, plans and objectives to maximize \\nteam performance.  \\n \\n• Analyze competitive landscape and market trends  to develop product strategies.  \\n \\n• Lead the product management team in the development of product plans, roadmaps and \\nlaunch plans.  \\n \\n• Monitor the performance of product management team, analyze results and implement \\ncorrective action as needed.  \\n \\n• Manage the product lifecycle, including product development, launch, and end of life.  \\n \\n• Ensure product features and benefits meet customer requirements.  \\n \\n• Establish and maintain relationships with key customers, partners, and vendors.  \\n \\n• Monitor competitor acti vities and develop strategies to ensure Contoso Electronics stays \\nahead of the competition.  \\n \\n• Develop pricing and promotional strategies to maximize product revenue.', metadata={'source': 'pdfs\\\\role_library.pdf', 'page': 22}),\n",
       "  Document(page_content='Senior Manager of Product Management  \\n \\nJob Title: Senior Manager of Product Management  \\n \\nCompany: Contoso Electronics  \\n \\nLocation: Anywhere  \\n \\nJob Type: Full -Time  \\n \\nSalary: Competitive, commensurate with experience  \\n \\nJob Summary:  \\n \\nThe Senior Manager of Product Management will be responsible for leadi ng the product \\nmanagement team at Contoso Electronics. This role includes developing strategies, plans \\nand objectives for the product management team and managing the day -to-day operations. \\nThe Senior Manager of Product Management will be responsible for t he successful launch of \\nnew products and the optimization of existing products.  \\n \\nResponsibilities:  \\n \\n• Develop and implement product management strategies, plans and objectives to maximize \\nteam performance.  \\n \\n• Analyze competitive landscape and market trends  to develop product strategies.  \\n \\n• Lead the product management team in the development of product plans, roadmaps and \\nlaunch plans.  \\n \\n• Monitor the performance of product management team, analyze results and implement \\ncorrective action as needed.  \\n \\n• Manage the product lifecycle, including product development, launch, and end of life.  \\n \\n• Ensure product features and benefits meet customer requirements.  \\n \\n• Establish and maintain relationships with key customers, partners, and vendors.  \\n \\n• Monitor competitor acti vities and develop strategies to ensure Contoso Electronics stays \\nahead of the competition.  \\n \\n• Develop pricing and promotional strategies to maximize product revenue.', metadata={'source': 'pdfs\\\\role_library.pdf', 'page': 22})]}"
      ]
     },
     "execution_count": 9,
     "metadata": {},
     "output_type": "execute_result"
    }
   ],
   "source": [
    "result"
   ]
  },
  {
   "cell_type": "markdown",
   "metadata": {},
   "source": [
    "# OpenAI Functions Agent"
   ]
  },
  {
   "cell_type": "code",
   "execution_count": 10,
   "metadata": {},
   "outputs": [],
   "source": [
    "from pydantic import BaseModel, Field\n",
    "from langchain.tools.base import BaseTool\n",
    "from typing import Type\n",
    "\n",
    "class FakeUserInput(BaseModel):\n",
    "    \"\"\"Input for FakeUserTool.\"\"\"\n",
    "\n",
    "    gender: str = Field(..., description=\"Fake user gender. Available genders: 'male' or ''female\")\n",
    "    naturality: str = Field(..., description=\"Country ISO 3166 code\")\n",
    "\n",
    "class FakeUserTool(BaseTool):\n",
    "    \"\"\"Tool that creates fake user data.\"\"\"\n",
    "\n",
    "    name: str = \"fake_user_tool\"\n",
    "    args_schema: Type[BaseModel] = FakeUserInput\n",
    "    description: str = \"Tool to generate fake user data considering a gender and a nationality.\"\n",
    "\n",
    "    def _run(self, gender: str, naturality: str) -> str:\n",
    "        try:\n",
    "            import requests\n",
    "\n",
    "            response = requests.get(\n",
    "                'https://randomuser.me/api/1.4/', \n",
    "                params={'gender': gender,\n",
    "                        'nat': naturality}\n",
    "            )\n",
    "            return response.text\n",
    "        except Exception as e:\n",
    "            return \"Error: \" + str(e)"
   ]
  },
  {
   "cell_type": "code",
   "execution_count": 11,
   "metadata": {},
   "outputs": [],
   "source": [
    "tools = [FakeUserTool()]"
   ]
  },
  {
   "cell_type": "code",
   "execution_count": 12,
   "metadata": {},
   "outputs": [],
   "source": [
    "agent = initialize_agent(tools, llm, agent=AgentType.OPENAI_FUNCTIONS, verbose=True)"
   ]
  },
  {
   "cell_type": "code",
   "execution_count": 13,
   "metadata": {},
   "outputs": [
    {
     "name": "stdout",
     "output_type": "stream",
     "text": [
      "\n",
      "\n",
      "\u001b[1m> Entering new AgentExecutor chain...\u001b[0m\n",
      "\u001b[32;1m\u001b[1;3m\n",
      "Invoking: `fake_user_tool` with `{'gender': 'male', 'naturality': 'BR'}`\n",
      "\n",
      "\n",
      "\u001b[0m\u001b[36;1m\u001b[1;3m{\"results\":[{\"gender\":\"male\",\"name\":{\"title\":\"Mr\",\"first\":\"Liciniano\",\"last\":\"Mendes\"},\"location\":{\"street\":{\"number\":435,\"name\":\"Rua Santa Rita \"},\"city\":\"Nova Friburgo\",\"state\":\"São Paulo\",\"country\":\"Brazil\",\"postcode\":11839,\"coordinates\":{\"latitude\":\"-9.5506\",\"longitude\":\"36.1872\"},\"timezone\":{\"offset\":\"-3:30\",\"description\":\"Newfoundland\"}},\"email\":\"liciniano.mendes@example.com\",\"login\":{\"uuid\":\"940a9e01-fe9a-42d3-950e-07b6708ca42d\",\"username\":\"greenbear921\",\"password\":\"ariana\",\"salt\":\"g76JOkZl\",\"md5\":\"8a44c46ce248e1b18e27ba6bf4969e08\",\"sha1\":\"db48f306c0bef54ebdf9e0a57112111062cd482e\",\"sha256\":\"fea7afc7b247052687e14aa63b423f04e64ea3e286a52c6dfc25f8380718a441\"},\"dob\":{\"date\":\"1947-02-09T18:25:07.787Z\",\"age\":76},\"registered\":{\"date\":\"2011-08-01T17:11:26.009Z\",\"age\":11},\"phone\":\"(34) 0576-2183\",\"cell\":\"(07) 6464-6132\",\"id\":{\"name\":\"CPF\",\"value\":\"405.332.070-09\"},\"picture\":{\"large\":\"https://randomuser.me/api/portraits/men/70.jpg\",\"medium\":\"https://randomuser.me/api/portraits/med/men/70.jpg\",\"thumbnail\":\"https://randomuser.me/api/portraits/thumb/men/70.jpg\"},\"nat\":\"BR\"}],\"info\":{\"seed\":\"3e675a1a6db50550\",\"results\":1,\"page\":1,\"version\":\"1.4\"}}\u001b[0m\u001b[32;1m\u001b[1;3mSure, here is the generated data:\n",
      "\n",
      "- Full Name: Mr Liciniano Mendes\n",
      "- Location: Rua Santa Rita, 435, Nova Friburgo, São Paulo, Brazil, 11839\n",
      "- Coordinates: Latitude -9.5506, Longitude 36.1872\n",
      "- Timezone: Newfoundland (-3:30)\n",
      "- Email: liciniano.mendes@example.com\n",
      "- Username: greenbear921\n",
      "- Date of Birth: 1947-02-09 (Age: 76)\n",
      "- Registered since: 2011-08-01 (Registered for 11 years)\n",
      "- Phone: (34) 0576-2183\n",
      "- Cell: (07) 6464-6132\n",
      "- ID: CPF: 405.332.070-09\n",
      "- Picture: [Link](https://randomuser.me/api/portraits/men/70.jpg)\n",
      "- Nationality: BR\n",
      "\n",
      "Please note that this information is fake and generated for the purpose of your request.\u001b[0m\n",
      "\n",
      "\u001b[1m> Finished chain.\u001b[0m\n"
     ]
    },
    {
     "data": {
      "text/plain": [
       "{'input': 'Create fake data for a male that was born in brazil',\n",
       " 'output': 'Sure, here is the generated data:\\n\\n- Full Name: Mr Liciniano Mendes\\n- Location: Rua Santa Rita, 435, Nova Friburgo, São Paulo, Brazil, 11839\\n- Coordinates: Latitude -9.5506, Longitude 36.1872\\n- Timezone: Newfoundland (-3:30)\\n- Email: liciniano.mendes@example.com\\n- Username: greenbear921\\n- Date of Birth: 1947-02-09 (Age: 76)\\n- Registered since: 2011-08-01 (Registered for 11 years)\\n- Phone: (34) 0576-2183\\n- Cell: (07) 6464-6132\\n- ID: CPF: 405.332.070-09\\n- Picture: [Link](https://randomuser.me/api/portraits/men/70.jpg)\\n- Nationality: BR\\n\\nPlease note that this information is fake and generated for the purpose of your request.'}"
      ]
     },
     "execution_count": 13,
     "metadata": {},
     "output_type": "execute_result"
    }
   ],
   "source": [
    "agent('Create fake data for a male that was born in brazil')"
   ]
  },
  {
   "cell_type": "markdown",
   "metadata": {},
   "source": [
    "# OpenAI Functions Multi Tool Agent"
   ]
  },
  {
   "cell_type": "code",
   "execution_count": 14,
   "metadata": {},
   "outputs": [],
   "source": [
    "qa_tool = Tool(\n",
    "    name='role-library-tool',\n",
    "    func=qa.run,\n",
    "    description='Useful when a user wants answers about the company employee handbook'\n",
    ")\n",
    "\n",
    "tools = [FakeUserTool(), qa_tool]"
   ]
  },
  {
   "cell_type": "code",
   "execution_count": 15,
   "metadata": {},
   "outputs": [],
   "source": [
    "agent = initialize_agent(tools, llm, agent=AgentType.OPENAI_FUNCTIONS, verbose=True)"
   ]
  },
  {
   "cell_type": "code",
   "execution_count": 16,
   "metadata": {},
   "outputs": [
    {
     "name": "stdout",
     "output_type": "stream",
     "text": [
      "\n",
      "\n",
      "\u001b[1m> Entering new AgentExecutor chain...\u001b[0m\n",
      "\u001b[32;1m\u001b[1;3m\n",
      "Invoking: `fake_user_tool` with `{'gender': 'female', 'naturality': 'FR'}`\n",
      "\n",
      "\n",
      "\u001b[0m\u001b[36;1m\u001b[1;3m{\"results\":[{\"gender\":\"female\",\"name\":{\"title\":\"Mrs\",\"first\":\"Emy\",\"last\":\"Philippe\"},\"location\":{\"street\":{\"number\":1945,\"name\":\"Avenue du Fort-Caire\"},\"city\":\"Brest\",\"state\":\"Alpes-de-Haute-Provence\",\"country\":\"France\",\"postcode\":74064,\"coordinates\":{\"latitude\":\"53.4326\",\"longitude\":\"-53.8271\"},\"timezone\":{\"offset\":\"-7:00\",\"description\":\"Mountain Time (US & Canada)\"}},\"email\":\"emy.philippe@example.com\",\"login\":{\"uuid\":\"c833130b-28e0-4b43-9854-7b0aa4195ec2\",\"username\":\"goldenfish535\",\"password\":\"kappa\",\"salt\":\"jF5dTpmu\",\"md5\":\"c31e4939d9061cf9687f205f0284a041\",\"sha1\":\"798a7f3a5efe67e47ad0e49ebf010961eb640666\",\"sha256\":\"c3badea07d5a4c7c747855644d7625a25b3eddeabe5bcfca5cd8ae746a091546\"},\"dob\":{\"date\":\"1984-07-12T00:29:21.500Z\",\"age\":39},\"registered\":{\"date\":\"2003-05-14T23:51:50.827Z\",\"age\":20},\"phone\":\"04-20-63-87-12\",\"cell\":\"06-65-67-82-12\",\"id\":{\"name\":\"INSEE\",\"value\":\"2840629313726 16\"},\"picture\":{\"large\":\"https://randomuser.me/api/portraits/women/64.jpg\",\"medium\":\"https://randomuser.me/api/portraits/med/women/64.jpg\",\"thumbnail\":\"https://randomuser.me/api/portraits/thumb/women/64.jpg\"},\"nat\":\"FR\"}],\"info\":{\"seed\":\"93b37eb44a6ab7e0\",\"results\":1,\"page\":1,\"version\":\"1.4\"}}\u001b[0m\u001b[32;1m\u001b[1;3mHere is the generated fake user data:\n",
      "\n",
      "- Name: Mrs. Emy Philippe\n",
      "- Location: 1945 Avenue du Fort-Caire, Brest, Alpes-de-Haute-Provence, France\n",
      "- Postcode: 74064\n",
      "- Email: emy.philippe@example.com\n",
      "- Username: goldenfish535\n",
      "- Date of Birth: 1984-07-12\n",
      "- Registered since: 2003-05-14\n",
      "- Phone: 04-20-63-87-12\n",
      "- Cell: 06-65-67-82-12\n",
      "- ID: INSEE 2840629313726 16\n",
      "\n",
      "![Emy Philippe](https://randomuser.me/api/portraits/women/64.jpg)\u001b[0m\n",
      "\n",
      "\u001b[1m> Finished chain.\u001b[0m\n"
     ]
    },
    {
     "data": {
      "text/plain": [
       "{'input': 'Create fake data for a female that was born in france',\n",
       " 'output': 'Here is the generated fake user data:\\n\\n- Name: Mrs. Emy Philippe\\n- Location: 1945 Avenue du Fort-Caire, Brest, Alpes-de-Haute-Provence, France\\n- Postcode: 74064\\n- Email: emy.philippe@example.com\\n- Username: goldenfish535\\n- Date of Birth: 1984-07-12\\n- Registered since: 2003-05-14\\n- Phone: 04-20-63-87-12\\n- Cell: 06-65-67-82-12\\n- ID: INSEE 2840629313726 16\\n\\n![Emy Philippe](https://randomuser.me/api/portraits/women/64.jpg)'}"
      ]
     },
     "execution_count": 16,
     "metadata": {},
     "output_type": "execute_result"
    }
   ],
   "source": [
    "agent('Create fake data for a female that was born in france')"
   ]
  },
  {
   "cell_type": "code",
   "execution_count": 17,
   "metadata": {},
   "outputs": [
    {
     "name": "stdout",
     "output_type": "stream",
     "text": [
      "\n",
      "\n",
      "\u001b[1m> Entering new AgentExecutor chain...\u001b[0m\n",
      "\u001b[32;1m\u001b[1;3m\n",
      "Invoking: `role-library-tool` with `Product Manager`\n",
      "\n",
      "\n",
      "\u001b[0m"
     ]
    },
    {
     "ename": "ValueError",
     "evalue": "`run` not supported when there is not exactly one output key. Got ['result', 'source_documents'].",
     "output_type": "error",
     "traceback": [
      "\u001b[1;31m---------------------------------------------------------------------------\u001b[0m",
      "\u001b[1;31mValueError\u001b[0m                                Traceback (most recent call last)",
      "Cell \u001b[1;32mIn[17], line 1\u001b[0m\n\u001b[1;32m----> 1\u001b[0m agent(\u001b[39m'\u001b[39;49m\u001b[39mWhat does a product manager do?\u001b[39;49m\u001b[39m'\u001b[39;49m)\n",
      "File \u001b[1;32mc:\\Users\\amenegola\\AppData\\Local\\miniconda3\\lib\\site-packages\\langchain\\chains\\base.py:258\u001b[0m, in \u001b[0;36mChain.__call__\u001b[1;34m(self, inputs, return_only_outputs, callbacks, tags, metadata, include_run_info)\u001b[0m\n\u001b[0;32m    256\u001b[0m \u001b[39mexcept\u001b[39;00m (\u001b[39mKeyboardInterrupt\u001b[39;00m, \u001b[39mException\u001b[39;00m) \u001b[39mas\u001b[39;00m e:\n\u001b[0;32m    257\u001b[0m     run_manager\u001b[39m.\u001b[39mon_chain_error(e)\n\u001b[1;32m--> 258\u001b[0m     \u001b[39mraise\u001b[39;00m e\n\u001b[0;32m    259\u001b[0m run_manager\u001b[39m.\u001b[39mon_chain_end(outputs)\n\u001b[0;32m    260\u001b[0m final_outputs: Dict[\u001b[39mstr\u001b[39m, Any] \u001b[39m=\u001b[39m \u001b[39mself\u001b[39m\u001b[39m.\u001b[39mprep_outputs(\n\u001b[0;32m    261\u001b[0m     inputs, outputs, return_only_outputs\n\u001b[0;32m    262\u001b[0m )\n",
      "File \u001b[1;32mc:\\Users\\amenegola\\AppData\\Local\\miniconda3\\lib\\site-packages\\langchain\\chains\\base.py:252\u001b[0m, in \u001b[0;36mChain.__call__\u001b[1;34m(self, inputs, return_only_outputs, callbacks, tags, metadata, include_run_info)\u001b[0m\n\u001b[0;32m    246\u001b[0m run_manager \u001b[39m=\u001b[39m callback_manager\u001b[39m.\u001b[39mon_chain_start(\n\u001b[0;32m    247\u001b[0m     dumpd(\u001b[39mself\u001b[39m),\n\u001b[0;32m    248\u001b[0m     inputs,\n\u001b[0;32m    249\u001b[0m )\n\u001b[0;32m    250\u001b[0m \u001b[39mtry\u001b[39;00m:\n\u001b[0;32m    251\u001b[0m     outputs \u001b[39m=\u001b[39m (\n\u001b[1;32m--> 252\u001b[0m         \u001b[39mself\u001b[39;49m\u001b[39m.\u001b[39;49m_call(inputs, run_manager\u001b[39m=\u001b[39;49mrun_manager)\n\u001b[0;32m    253\u001b[0m         \u001b[39mif\u001b[39;00m new_arg_supported\n\u001b[0;32m    254\u001b[0m         \u001b[39melse\u001b[39;00m \u001b[39mself\u001b[39m\u001b[39m.\u001b[39m_call(inputs)\n\u001b[0;32m    255\u001b[0m     )\n\u001b[0;32m    256\u001b[0m \u001b[39mexcept\u001b[39;00m (\u001b[39mKeyboardInterrupt\u001b[39;00m, \u001b[39mException\u001b[39;00m) \u001b[39mas\u001b[39;00m e:\n\u001b[0;32m    257\u001b[0m     run_manager\u001b[39m.\u001b[39mon_chain_error(e)\n",
      "File \u001b[1;32mc:\\Users\\amenegola\\AppData\\Local\\miniconda3\\lib\\site-packages\\langchain\\agents\\agent.py:1029\u001b[0m, in \u001b[0;36mAgentExecutor._call\u001b[1;34m(self, inputs, run_manager)\u001b[0m\n\u001b[0;32m   1027\u001b[0m \u001b[39m# We now enter the agent loop (until it returns something).\u001b[39;00m\n\u001b[0;32m   1028\u001b[0m \u001b[39mwhile\u001b[39;00m \u001b[39mself\u001b[39m\u001b[39m.\u001b[39m_should_continue(iterations, time_elapsed):\n\u001b[1;32m-> 1029\u001b[0m     next_step_output \u001b[39m=\u001b[39m \u001b[39mself\u001b[39;49m\u001b[39m.\u001b[39;49m_take_next_step(\n\u001b[0;32m   1030\u001b[0m         name_to_tool_map,\n\u001b[0;32m   1031\u001b[0m         color_mapping,\n\u001b[0;32m   1032\u001b[0m         inputs,\n\u001b[0;32m   1033\u001b[0m         intermediate_steps,\n\u001b[0;32m   1034\u001b[0m         run_manager\u001b[39m=\u001b[39;49mrun_manager,\n\u001b[0;32m   1035\u001b[0m     )\n\u001b[0;32m   1036\u001b[0m     \u001b[39mif\u001b[39;00m \u001b[39misinstance\u001b[39m(next_step_output, AgentFinish):\n\u001b[0;32m   1037\u001b[0m         \u001b[39mreturn\u001b[39;00m \u001b[39mself\u001b[39m\u001b[39m.\u001b[39m_return(\n\u001b[0;32m   1038\u001b[0m             next_step_output, intermediate_steps, run_manager\u001b[39m=\u001b[39mrun_manager\n\u001b[0;32m   1039\u001b[0m         )\n",
      "File \u001b[1;32mc:\\Users\\amenegola\\AppData\\Local\\miniconda3\\lib\\site-packages\\langchain\\agents\\agent.py:890\u001b[0m, in \u001b[0;36mAgentExecutor._take_next_step\u001b[1;34m(self, name_to_tool_map, color_mapping, inputs, intermediate_steps, run_manager)\u001b[0m\n\u001b[0;32m    888\u001b[0m         tool_run_kwargs[\u001b[39m\"\u001b[39m\u001b[39mllm_prefix\u001b[39m\u001b[39m\"\u001b[39m] \u001b[39m=\u001b[39m \u001b[39m\"\u001b[39m\u001b[39m\"\u001b[39m\n\u001b[0;32m    889\u001b[0m     \u001b[39m# We then call the tool on the tool input to get an observation\u001b[39;00m\n\u001b[1;32m--> 890\u001b[0m     observation \u001b[39m=\u001b[39m tool\u001b[39m.\u001b[39;49mrun(\n\u001b[0;32m    891\u001b[0m         agent_action\u001b[39m.\u001b[39;49mtool_input,\n\u001b[0;32m    892\u001b[0m         verbose\u001b[39m=\u001b[39;49m\u001b[39mself\u001b[39;49m\u001b[39m.\u001b[39;49mverbose,\n\u001b[0;32m    893\u001b[0m         color\u001b[39m=\u001b[39;49mcolor,\n\u001b[0;32m    894\u001b[0m         callbacks\u001b[39m=\u001b[39;49mrun_manager\u001b[39m.\u001b[39;49mget_child() \u001b[39mif\u001b[39;49;00m run_manager \u001b[39melse\u001b[39;49;00m \u001b[39mNone\u001b[39;49;00m,\n\u001b[0;32m    895\u001b[0m         \u001b[39m*\u001b[39;49m\u001b[39m*\u001b[39;49mtool_run_kwargs,\n\u001b[0;32m    896\u001b[0m     )\n\u001b[0;32m    897\u001b[0m \u001b[39melse\u001b[39;00m:\n\u001b[0;32m    898\u001b[0m     tool_run_kwargs \u001b[39m=\u001b[39m \u001b[39mself\u001b[39m\u001b[39m.\u001b[39magent\u001b[39m.\u001b[39mtool_run_logging_kwargs()\n",
      "File \u001b[1;32mc:\\Users\\amenegola\\AppData\\Local\\miniconda3\\lib\\site-packages\\langchain\\tools\\base.py:349\u001b[0m, in \u001b[0;36mBaseTool.run\u001b[1;34m(self, tool_input, verbose, start_color, color, callbacks, tags, metadata, **kwargs)\u001b[0m\n\u001b[0;32m    347\u001b[0m \u001b[39mexcept\u001b[39;00m (\u001b[39mException\u001b[39;00m, \u001b[39mKeyboardInterrupt\u001b[39;00m) \u001b[39mas\u001b[39;00m e:\n\u001b[0;32m    348\u001b[0m     run_manager\u001b[39m.\u001b[39mon_tool_error(e)\n\u001b[1;32m--> 349\u001b[0m     \u001b[39mraise\u001b[39;00m e\n\u001b[0;32m    350\u001b[0m \u001b[39melse\u001b[39;00m:\n\u001b[0;32m    351\u001b[0m     run_manager\u001b[39m.\u001b[39mon_tool_end(\n\u001b[0;32m    352\u001b[0m         \u001b[39mstr\u001b[39m(observation), color\u001b[39m=\u001b[39mcolor, name\u001b[39m=\u001b[39m\u001b[39mself\u001b[39m\u001b[39m.\u001b[39mname, \u001b[39m*\u001b[39m\u001b[39m*\u001b[39mkwargs\n\u001b[0;32m    353\u001b[0m     )\n",
      "File \u001b[1;32mc:\\Users\\amenegola\\AppData\\Local\\miniconda3\\lib\\site-packages\\langchain\\tools\\base.py:321\u001b[0m, in \u001b[0;36mBaseTool.run\u001b[1;34m(self, tool_input, verbose, start_color, color, callbacks, tags, metadata, **kwargs)\u001b[0m\n\u001b[0;32m    318\u001b[0m \u001b[39mtry\u001b[39;00m:\n\u001b[0;32m    319\u001b[0m     tool_args, tool_kwargs \u001b[39m=\u001b[39m \u001b[39mself\u001b[39m\u001b[39m.\u001b[39m_to_args_and_kwargs(parsed_input)\n\u001b[0;32m    320\u001b[0m     observation \u001b[39m=\u001b[39m (\n\u001b[1;32m--> 321\u001b[0m         \u001b[39mself\u001b[39;49m\u001b[39m.\u001b[39;49m_run(\u001b[39m*\u001b[39;49mtool_args, run_manager\u001b[39m=\u001b[39;49mrun_manager, \u001b[39m*\u001b[39;49m\u001b[39m*\u001b[39;49mtool_kwargs)\n\u001b[0;32m    322\u001b[0m         \u001b[39mif\u001b[39;00m new_arg_supported\n\u001b[0;32m    323\u001b[0m         \u001b[39melse\u001b[39;00m \u001b[39mself\u001b[39m\u001b[39m.\u001b[39m_run(\u001b[39m*\u001b[39mtool_args, \u001b[39m*\u001b[39m\u001b[39m*\u001b[39mtool_kwargs)\n\u001b[0;32m    324\u001b[0m     )\n\u001b[0;32m    325\u001b[0m \u001b[39mexcept\u001b[39;00m ToolException \u001b[39mas\u001b[39;00m e:\n\u001b[0;32m    326\u001b[0m     \u001b[39mif\u001b[39;00m \u001b[39mnot\u001b[39;00m \u001b[39mself\u001b[39m\u001b[39m.\u001b[39mhandle_tool_error:\n",
      "File \u001b[1;32mc:\\Users\\amenegola\\AppData\\Local\\miniconda3\\lib\\site-packages\\langchain\\tools\\base.py:491\u001b[0m, in \u001b[0;36mTool._run\u001b[1;34m(self, run_manager, *args, **kwargs)\u001b[0m\n\u001b[0;32m    488\u001b[0m \u001b[39m\u001b[39m\u001b[39m\"\"\"Use the tool.\"\"\"\u001b[39;00m\n\u001b[0;32m    489\u001b[0m new_argument_supported \u001b[39m=\u001b[39m signature(\u001b[39mself\u001b[39m\u001b[39m.\u001b[39mfunc)\u001b[39m.\u001b[39mparameters\u001b[39m.\u001b[39mget(\u001b[39m\"\u001b[39m\u001b[39mcallbacks\u001b[39m\u001b[39m\"\u001b[39m)\n\u001b[0;32m    490\u001b[0m \u001b[39mreturn\u001b[39;00m (\n\u001b[1;32m--> 491\u001b[0m     \u001b[39mself\u001b[39;49m\u001b[39m.\u001b[39;49mfunc(\n\u001b[0;32m    492\u001b[0m         \u001b[39m*\u001b[39;49margs,\n\u001b[0;32m    493\u001b[0m         callbacks\u001b[39m=\u001b[39;49mrun_manager\u001b[39m.\u001b[39;49mget_child() \u001b[39mif\u001b[39;49;00m run_manager \u001b[39melse\u001b[39;49;00m \u001b[39mNone\u001b[39;49;00m,\n\u001b[0;32m    494\u001b[0m         \u001b[39m*\u001b[39;49m\u001b[39m*\u001b[39;49mkwargs,\n\u001b[0;32m    495\u001b[0m     )\n\u001b[0;32m    496\u001b[0m     \u001b[39mif\u001b[39;00m new_argument_supported\n\u001b[0;32m    497\u001b[0m     \u001b[39melse\u001b[39;00m \u001b[39mself\u001b[39m\u001b[39m.\u001b[39mfunc(\u001b[39m*\u001b[39margs, \u001b[39m*\u001b[39m\u001b[39m*\u001b[39mkwargs)\n\u001b[0;32m    498\u001b[0m )\n",
      "File \u001b[1;32mc:\\Users\\amenegola\\AppData\\Local\\miniconda3\\lib\\site-packages\\langchain\\chains\\base.py:446\u001b[0m, in \u001b[0;36mChain.run\u001b[1;34m(self, callbacks, tags, metadata, *args, **kwargs)\u001b[0m\n\u001b[0;32m    409\u001b[0m \u001b[39m\u001b[39m\u001b[39m\"\"\"Convenience method for executing chain.\u001b[39;00m\n\u001b[0;32m    410\u001b[0m \n\u001b[0;32m    411\u001b[0m \u001b[39mThe main difference between this method and `Chain.__call__` is that this\u001b[39;00m\n\u001b[1;32m   (...)\u001b[0m\n\u001b[0;32m    443\u001b[0m \u001b[39m        # -> \"The temperature in Boise is...\"\u001b[39;00m\n\u001b[0;32m    444\u001b[0m \u001b[39m\"\"\"\u001b[39;00m\n\u001b[0;32m    445\u001b[0m \u001b[39m# Run at start to make sure this is possible/defined\u001b[39;00m\n\u001b[1;32m--> 446\u001b[0m _output_key \u001b[39m=\u001b[39m \u001b[39mself\u001b[39;49m\u001b[39m.\u001b[39;49m_run_output_key\n\u001b[0;32m    448\u001b[0m \u001b[39mif\u001b[39;00m args \u001b[39mand\u001b[39;00m \u001b[39mnot\u001b[39;00m kwargs:\n\u001b[0;32m    449\u001b[0m     \u001b[39mif\u001b[39;00m \u001b[39mlen\u001b[39m(args) \u001b[39m!=\u001b[39m \u001b[39m1\u001b[39m:\n",
      "File \u001b[1;32mc:\\Users\\amenegola\\AppData\\Local\\miniconda3\\lib\\site-packages\\langchain\\chains\\base.py:395\u001b[0m, in \u001b[0;36mChain._run_output_key\u001b[1;34m(self)\u001b[0m\n\u001b[0;32m    392\u001b[0m \u001b[39m@property\u001b[39m\n\u001b[0;32m    393\u001b[0m \u001b[39mdef\u001b[39;00m \u001b[39m_run_output_key\u001b[39m(\u001b[39mself\u001b[39m) \u001b[39m-\u001b[39m\u001b[39m>\u001b[39m \u001b[39mstr\u001b[39m:\n\u001b[0;32m    394\u001b[0m     \u001b[39mif\u001b[39;00m \u001b[39mlen\u001b[39m(\u001b[39mself\u001b[39m\u001b[39m.\u001b[39moutput_keys) \u001b[39m!=\u001b[39m \u001b[39m1\u001b[39m:\n\u001b[1;32m--> 395\u001b[0m         \u001b[39mraise\u001b[39;00m \u001b[39mValueError\u001b[39;00m(\n\u001b[0;32m    396\u001b[0m             \u001b[39mf\u001b[39m\u001b[39m\"\u001b[39m\u001b[39m`run` not supported when there is not exactly \u001b[39m\u001b[39m\"\u001b[39m\n\u001b[0;32m    397\u001b[0m             \u001b[39mf\u001b[39m\u001b[39m\"\u001b[39m\u001b[39mone output key. Got \u001b[39m\u001b[39m{\u001b[39;00m\u001b[39mself\u001b[39m\u001b[39m.\u001b[39moutput_keys\u001b[39m}\u001b[39;00m\u001b[39m.\u001b[39m\u001b[39m\"\u001b[39m\n\u001b[0;32m    398\u001b[0m         )\n\u001b[0;32m    399\u001b[0m     \u001b[39mreturn\u001b[39;00m \u001b[39mself\u001b[39m\u001b[39m.\u001b[39moutput_keys[\u001b[39m0\u001b[39m]\n",
      "\u001b[1;31mValueError\u001b[0m: `run` not supported when there is not exactly one output key. Got ['result', 'source_documents']."
     ]
    }
   ],
   "source": [
    "agent('What does a product manager do?')"
   ]
  }
 ],
 "metadata": {
  "kernelspec": {
   "display_name": "base",
   "language": "python",
   "name": "python3"
  },
  "language_info": {
   "codemirror_mode": {
    "name": "ipython",
    "version": 3
   },
   "file_extension": ".py",
   "mimetype": "text/x-python",
   "name": "python",
   "nbconvert_exporter": "python",
   "pygments_lexer": "ipython3",
   "version": "3.8.15"
  },
  "orig_nbformat": 4
 },
 "nbformat": 4,
 "nbformat_minor": 2
}

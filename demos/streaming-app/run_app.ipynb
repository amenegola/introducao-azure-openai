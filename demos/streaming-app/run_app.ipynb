{
 "cells": [
  {
   "cell_type": "code",
   "execution_count": 8,
   "metadata": {},
   "outputs": [
    {
     "name": "stdout",
     "output_type": "stream",
     "text": [
      "Brazil is a country of immense geopolitical importance due to its size, location, and resources. It is the fifth largest country in the world, with a population of over 210 million people. Brazil borders ten other countries in South America, making it a key player in regional politics and integration initiatives.\n",
      "\n",
      "Brazil has a diverse economy with abundant natural resources, including oil, minerals, and agricultural land. It is the world's second-largest producer of ethanol and the largest exporter of coffee, soybeans, and beef. This economic strength has given Brazil a significant role in international trade and investment.\n",
      "\n",
      "In recent years, Brazil has sought to increase its influence on the world stage, particularly in developing countries. It has been a member"
     ]
    }
   ],
   "source": [
    "import requests\n",
    "import json\n",
    "\n",
    "# URL of your FastAPI application\n",
    "url = \"http://127.0.0.1:80/stream\"\n",
    "\n",
    "# Data to send in the request\n",
    "data = {\"message\": \"Write a text about Brazil's geopolitics\"}\n",
    "\n",
    "# Headers for the request\n",
    "headers = {\"Content-Type\": \"application/json\"}\n",
    "\n",
    "# Make a POST request to the server\n",
    "response = requests.post(url, data=json.dumps(data), headers=headers, stream=True)\n",
    "\n",
    "# Set the encoding to utf-8 if it's not set\n",
    "if response.encoding is None:\n",
    "    response.encoding = 'utf-8'\n",
    "\n",
    "# Define the chunk size\n",
    "chunk_size = 1  # Adjust this value to your needs\n",
    "\n",
    "# Iterate over the chunks in the response stream\n",
    "for chunk in response.iter_content(chunk_size):\n",
    "    print(chunk.decode(), end='')"
   ]
  }
 ],
 "metadata": {
  "kernelspec": {
   "display_name": "base",
   "language": "python",
   "name": "python3"
  },
  "language_info": {
   "codemirror_mode": {
    "name": "ipython",
    "version": 3
   },
   "file_extension": ".py",
   "mimetype": "text/x-python",
   "name": "python",
   "nbconvert_exporter": "python",
   "pygments_lexer": "ipython3",
   "version": "3.8.13"
  }
 },
 "nbformat": 4,
 "nbformat_minor": 2
}

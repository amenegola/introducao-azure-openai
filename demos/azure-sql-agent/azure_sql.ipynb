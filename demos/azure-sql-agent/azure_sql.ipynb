{
 "cells": [
  {
   "cell_type": "code",
   "execution_count": 1,
   "metadata": {},
   "outputs": [
    {
     "data": {
      "text/plain": [
       "True"
      ]
     },
     "execution_count": 1,
     "metadata": {},
     "output_type": "execute_result"
    }
   ],
   "source": [
    "import os\n",
    "import openai\n",
    "from langchain.llms import AzureOpenAI\n",
    "from langchain.agents import create_sql_agent\n",
    "from langchain.agents.agent_toolkits import SQLDatabaseToolkit\n",
    "from langchain.sql_database import SQLDatabase\n",
    "from dotenv import load_dotenv\n",
    "\n",
    "load_dotenv()"
   ]
  },
  {
   "cell_type": "code",
   "execution_count": 6,
   "metadata": {},
   "outputs": [],
   "source": [
    "llm = AzureOpenAI(\n",
    "    openai_api_base=os.getenv('OPENAI_API_BASE'),\n",
    "    openai_api_version=os.getenv(\"OPENAI_API_VERSION\"),\n",
    "    deployment_name='gpt-35-turbo-instruct',\n",
    "    openai_api_key=os.getenv(\"OPENAI_API_KEY\"),\n",
    "    openai_api_type=os.getenv(\"OPENAI_API_TYPE\"),\n",
    "    temperature = 0.3\n",
    ")"
   ]
  },
  {
   "cell_type": "code",
   "execution_count": 7,
   "metadata": {},
   "outputs": [],
   "source": [
    "database_user = os.getenv(\"DATABASE_USERNAME\")\n",
    "database_password = os.getenv(\"DATABASE_PASSWORD\")\n",
    "database_server = os.getenv(\"DATABASE_SERVER\")\n",
    "database_db = os.getenv(\"DATABASE_DB\")\n",
    "\n",
    "connection_string = f\"mssql+pymssql://{database_user}:{database_password}@{database_server}.database.windows.net:1433/{database_db}\"\n",
    "\n",
    "db = SQLDatabase.from_uri(connection_string, schema='SalesLT')\n",
    "toolkit = SQLDatabaseToolkit(db=db, llm=llm, reduce_k_below_max_tokens=True)"
   ]
  },
  {
   "cell_type": "code",
   "execution_count": 7,
   "metadata": {},
   "outputs": [
    {
     "data": {
      "text/plain": [
       "[QuerySQLDataBaseTool(name='sql_db_query', description=\"Input to this tool is a detailed and correct SQL query, output is a result from the database. If the query is not correct, an error message will be returned. If an error is returned, rewrite the query, check the query, and try again. If you encounter an issue with Unknown column 'xxxx' in 'field list', using sql_db_schema to query the correct table fields.\", args_schema=None, return_direct=False, verbose=False, callbacks=None, callback_manager=None, tags=None, metadata=None, handle_tool_error=False, db=<langchain.utilities.sql_database.SQLDatabase object at 0x000002BD2EB1BFA0>),\n",
       " InfoSQLDatabaseTool(name='sql_db_schema', description=\"Input to this tool is a comma-separated list of tables, output is the schema and sample rows for those tables. Be sure that the tables actually exist by calling sql_db_list_tables first! Example Input: 'table1, table2, table3'\", args_schema=None, return_direct=False, verbose=False, callbacks=None, callback_manager=None, tags=None, metadata=None, handle_tool_error=False, db=<langchain.utilities.sql_database.SQLDatabase object at 0x000002BD2EB1BFA0>),\n",
       " ListSQLDatabaseTool(name='sql_db_list_tables', description='Input is an empty string, output is a comma separated list of tables in the database.', args_schema=None, return_direct=False, verbose=False, callbacks=None, callback_manager=None, tags=None, metadata=None, handle_tool_error=False, db=<langchain.utilities.sql_database.SQLDatabase object at 0x000002BD2EB1BFA0>),\n",
       " QuerySQLCheckerTool(name='sql_db_query_checker', description='Use this tool to double check if your query is correct before executing it. Always use this tool before executing a query with sql_db_query!', args_schema=None, return_direct=False, verbose=False, callbacks=None, callback_manager=None, tags=None, metadata=None, handle_tool_error=False, db=<langchain.utilities.sql_database.SQLDatabase object at 0x000002BD2EB1BFA0>, template='\\n{query}\\nDouble check the {dialect} query above for common mistakes, including:\\n- Using NOT IN with NULL values\\n- Using UNION when UNION ALL should have been used\\n- Using BETWEEN for exclusive ranges\\n- Data type mismatch in predicates\\n- Properly quoting identifiers\\n- Using the correct number of arguments for functions\\n- Casting to the correct data type\\n- Using the proper columns for joins\\n\\nIf there are any of the above mistakes, rewrite the query. If there are no mistakes, just reproduce the original query.\\n\\nOutput the final SQL query only.\\n\\nSQL Query: ', llm=AzureOpenAI(client=<class 'openai.api_resources.completion.Completion'>, openai_api_key='2e2ff0dc5c3b4e5bafa4c15b068861d3', openai_api_base='https://openai-aia-sbx-eastus.openai.azure.com/', openai_organization='', openai_proxy='', deployment_name='gpt-35-turbo-instruct', openai_api_type='azure', openai_api_version='2023-07-01-preview'), llm_chain=LLMChain(prompt=PromptTemplate(input_variables=['query', 'dialect'], template='\\n{query}\\nDouble check the {dialect} query above for common mistakes, including:\\n- Using NOT IN with NULL values\\n- Using UNION when UNION ALL should have been used\\n- Using BETWEEN for exclusive ranges\\n- Data type mismatch in predicates\\n- Properly quoting identifiers\\n- Using the correct number of arguments for functions\\n- Casting to the correct data type\\n- Using the proper columns for joins\\n\\nIf there are any of the above mistakes, rewrite the query. If there are no mistakes, just reproduce the original query.\\n\\nOutput the final SQL query only.\\n\\nSQL Query: '), llm=AzureOpenAI(client=<class 'openai.api_resources.completion.Completion'>, openai_api_key='2e2ff0dc5c3b4e5bafa4c15b068861d3', openai_api_base='https://openai-aia-sbx-eastus.openai.azure.com/', openai_organization='', openai_proxy='', deployment_name='gpt-35-turbo-instruct', openai_api_type='azure', openai_api_version='2023-07-01-preview')))]"
      ]
     },
     "execution_count": 7,
     "metadata": {},
     "output_type": "execute_result"
    }
   ],
   "source": [
    "toolkit.get_tools()"
   ]
  },
  {
   "cell_type": "code",
   "execution_count": 8,
   "metadata": {},
   "outputs": [],
   "source": [
    "agent_executor = create_sql_agent(\n",
    "    llm=llm,\n",
    "    toolkit=toolkit,\n",
    "    verbose=True\n",
    ")"
   ]
  },
  {
   "cell_type": "code",
   "execution_count": 5,
   "metadata": {},
   "outputs": [
    {
     "name": "stdout",
     "output_type": "stream",
     "text": [
      "\n",
      "\n",
      "\u001b[1m> Entering new AgentExecutor chain...\u001b[0m\n",
      "\u001b[32;1m\u001b[1;3mAction: sql_db_list_tables\n",
      "Action Input: \u001b[0m\n",
      "Observation: \u001b[38;5;200m\u001b[1;3mAddress, Customer, CustomerAddress, Product, ProductCategory, ProductDescription, ProductModel, ProductModelProductDescription, SalesOrderDetail, SalesOrderHeader\u001b[0m\n",
      "Thought:\u001b[32;1m\u001b[1;3m There are a lot of tables in this database.  I should look at the schema of some of the tables to see if I can find information about people.\n",
      "Action: sql_db_schema\n",
      "Action Input: Address, Customer\u001b[0m\n",
      "Observation: \u001b[33;1m\u001b[1;3m\n",
      "CREATE TABLE [SalesLT].[Address] (\n",
      "\t[AddressID] INTEGER NOT NULL IDENTITY(1,1), \n",
      "\t[AddressLine1] NVARCHAR(60) COLLATE SQL_Latin1_General_CP1_CI_AS NOT NULL, \n",
      "\t[AddressLine2] NVARCHAR(60) COLLATE SQL_Latin1_General_CP1_CI_AS NULL, \n",
      "\t[City] NVARCHAR(30) COLLATE SQL_Latin1_General_CP1_CI_AS NOT NULL, \n",
      "\t[StateProvince] NVARCHAR(50) COLLATE SQL_Latin1_General_CP1_CI_AS NOT NULL, \n",
      "\t[CountryRegion] NVARCHAR(50) COLLATE SQL_Latin1_General_CP1_CI_AS NOT NULL, \n",
      "\t[PostalCode] NVARCHAR(15) COLLATE SQL_Latin1_General_CP1_CI_AS NOT NULL, \n",
      "\trowguid UNIQUEIDENTIFIER NOT NULL DEFAULT (newid()), \n",
      "\t[ModifiedDate] DATETIME NOT NULL DEFAULT (getdate()), \n",
      "\tCONSTRAINT [PK_Address_AddressID] PRIMARY KEY ([AddressID])\n",
      ")\n",
      "\n",
      "/*\n",
      "3 rows from Address table:\n",
      "AddressID\tAddressLine1\tAddressLine2\tCity\tStateProvince\tCountryRegion\tPostalCode\trowguid\tModifiedDate\n",
      "9\t8713 Yosemite Ct.\tNone\tBothell\tWashington\tUnited States\t98011\t268af621-76d7-4c78-9441-144fd139821a\t2006-07-01 00:00:00\n",
      "11\t1318 Lasalle Street\tNone\tBothell\tWashington\tUnited States\t98011\t981b3303-aca2-49c7-9a96-fb670785b269\t2007-04-01 00:00:00\n",
      "25\t9178 Jumping St.\tNone\tDallas\tTexas\tUnited States\t75201\tc8df3bd9-48f0-4654-a8dd-14a67a84d3c6\t2006-09-01 00:00:00\n",
      "*/\n",
      "\n",
      "\n",
      "CREATE TABLE [SalesLT].[Customer] (\n",
      "\t[CustomerID] INTEGER NOT NULL IDENTITY(1,1), \n",
      "\t[NameStyle] BIT NOT NULL DEFAULT ((0)), \n",
      "\t[Title] NVARCHAR(8) COLLATE SQL_Latin1_General_CP1_CI_AS NULL, \n",
      "\t[FirstName] NVARCHAR(50) COLLATE SQL_Latin1_General_CP1_CI_AS NOT NULL, \n",
      "\t[MiddleName] NVARCHAR(50) COLLATE SQL_Latin1_General_CP1_CI_AS NULL, \n",
      "\t[LastName] NVARCHAR(50) COLLATE SQL_Latin1_General_CP1_CI_AS NOT NULL, \n",
      "\t[Suffix] NVARCHAR(10) COLLATE SQL_Latin1_General_CP1_CI_AS NULL, \n",
      "\t[CompanyName] NVARCHAR(128) COLLATE SQL_Latin1_General_CP1_CI_AS NULL, \n",
      "\t[SalesPerson] NVARCHAR(256) COLLATE SQL_Latin1_General_CP1_CI_AS NULL, \n",
      "\t[EmailAddress] NVARCHAR(50) COLLATE SQL_Latin1_General_CP1_CI_AS NULL, \n",
      "\t[Phone] NVARCHAR(25) COLLATE SQL_Latin1_General_CP1_CI_AS NULL, \n",
      "\t[PasswordHash] VARCHAR(128) COLLATE SQL_Latin1_General_CP1_CI_AS NOT NULL, \n",
      "\t[PasswordSalt] VARCHAR(10) COLLATE SQL_Latin1_General_CP1_CI_AS NOT NULL, \n",
      "\trowguid UNIQUEIDENTIFIER NOT NULL DEFAULT (newid()), \n",
      "\t[ModifiedDate] DATETIME NOT NULL DEFAULT (getdate()), \n",
      "\tCONSTRAINT [PK_Customer_CustomerID] PRIMARY KEY ([CustomerID])\n",
      ")\n",
      "\n",
      "/*\n",
      "3 rows from Customer table:\n",
      "CustomerID\tNameStyle\tTitle\tFirstName\tMiddleName\tLastName\tSuffix\tCompanyName\tSalesPerson\tEmailAddress\tPhone\tPasswordHash\tPasswordSalt\trowguid\tModifiedDate\n",
      "1\tFalse\tMr.\tOrlando\tN.\tGee\tNone\tA Bike Store\tadventure-works\\pamela0\torlando0@adventure-works.com\t245-555-0173\tL/Rlwxzp4w7RWmEgXX+/A7cXaePEPcp+KwQhl2fJL7w=\t1KjXYs4=\t3f5ae95e-b87d-4aed-95b4-c3797afcb74f\t2005-08-01 00:00:00\n",
      "2\tFalse\tMr.\tKeith\tNone\tHarris\tNone\tProgressive Sports\tadventure-works\\david8\tkeith0@adventure-works.com\t170-555-0127\tYPdtRdvqeAhj6wyxEsFdshBDNXxkCXn+CRgbvJItknw=\tfs1ZGhY=\te552f657-a9af-4a7d-a645-c429d6e02491\t2006-08-01 00:00:00\n",
      "3\tFalse\tMs.\tDonna\tF.\tCarreras\tNone\tAdvanced Bike Components\tadventure-works\\jillian0\tdonna0@adventure-works.com\t279-555-0130\tLNoK27abGQo48gGue3EBV/UrlYSToV0/s87dCRV7uJk=\tYTNH5Rw=\t130774b1-db21-4ef3-98c8-c104bcd6ed6d\t2005-09-01 00:00:00\n",
      "*/\u001b[0m\n",
      "Thought:\u001b[32;1m\u001b[1;3m I found the tables containing information about people.  I should query these tables for the number of people.\n",
      "Action: sql_db_query\n",
      "Action Input: SELECT COUNT(*) FROM SalesLT.Customer\u001b[0m\n",
      "Observation: \u001b[36;1m\u001b[1;3m[(847,)]\u001b[0m\n",
      "Thought:\u001b[32;1m\u001b[1;3m I now know the final answer\n",
      "Final Answer: There are 847 people in the database.\u001b[0m\n",
      "\n",
      "\u001b[1m> Finished chain.\u001b[0m\n"
     ]
    },
    {
     "data": {
      "text/plain": [
       "'There are 847 people in the database.'"
      ]
     },
     "execution_count": 5,
     "metadata": {},
     "output_type": "execute_result"
    }
   ],
   "source": [
    "agent_executor.run(\"How many people are there?\")"
   ]
  },
  {
   "cell_type": "code",
   "execution_count": 10,
   "metadata": {},
   "outputs": [
    {
     "name": "stdout",
     "output_type": "stream",
     "text": [
      "\n",
      "\n",
      "\u001b[1m> Entering new AgentExecutor chain...\u001b[0m\n",
      "\u001b[32;1m\u001b[1;3mAction: sql_db_list_tables\n",
      "Action Input: \u001b[0m\n",
      "Observation: \u001b[38;5;200m\u001b[1;3mAddress, Customer, CustomerAddress, Product, ProductCategory, ProductDescription, ProductModel, ProductModelProductDescription, SalesOrderDetail, SalesOrderHeader\u001b[0m\n",
      "Thought:\u001b[32;1m\u001b[1;3m I should query the schema for the Customer and SalesOrderHeader tables.\n",
      "Action: sql_db_schema\n",
      "Action Input: Customer, SalesOrderHeader\u001b[0m\n",
      "Observation: \u001b[33;1m\u001b[1;3m\n",
      "CREATE TABLE [SalesLT].[Customer] (\n",
      "\t[CustomerID] INTEGER NOT NULL IDENTITY(1,1), \n",
      "\t[NameStyle] BIT NOT NULL DEFAULT ((0)), \n",
      "\t[Title] NVARCHAR(8) COLLATE SQL_Latin1_General_CP1_CI_AS NULL, \n",
      "\t[FirstName] NVARCHAR(50) COLLATE SQL_Latin1_General_CP1_CI_AS NOT NULL, \n",
      "\t[MiddleName] NVARCHAR(50) COLLATE SQL_Latin1_General_CP1_CI_AS NULL, \n",
      "\t[LastName] NVARCHAR(50) COLLATE SQL_Latin1_General_CP1_CI_AS NOT NULL, \n",
      "\t[Suffix] NVARCHAR(10) COLLATE SQL_Latin1_General_CP1_CI_AS NULL, \n",
      "\t[CompanyName] NVARCHAR(128) COLLATE SQL_Latin1_General_CP1_CI_AS NULL, \n",
      "\t[SalesPerson] NVARCHAR(256) COLLATE SQL_Latin1_General_CP1_CI_AS NULL, \n",
      "\t[EmailAddress] NVARCHAR(50) COLLATE SQL_Latin1_General_CP1_CI_AS NULL, \n",
      "\t[Phone] NVARCHAR(25) COLLATE SQL_Latin1_General_CP1_CI_AS NULL, \n",
      "\t[PasswordHash] VARCHAR(128) COLLATE SQL_Latin1_General_CP1_CI_AS NOT NULL, \n",
      "\t[PasswordSalt] VARCHAR(10) COLLATE SQL_Latin1_General_CP1_CI_AS NOT NULL, \n",
      "\trowguid UNIQUEIDENTIFIER NOT NULL DEFAULT (newid()), \n",
      "\t[ModifiedDate] DATETIME NOT NULL DEFAULT (getdate()), \n",
      "\tCONSTRAINT [PK_Customer_CustomerID] PRIMARY KEY ([CustomerID])\n",
      ")\n",
      "\n",
      "/*\n",
      "3 rows from Customer table:\n",
      "CustomerID\tNameStyle\tTitle\tFirstName\tMiddleName\tLastName\tSuffix\tCompanyName\tSalesPerson\tEmailAddress\tPhone\tPasswordHash\tPasswordSalt\trowguid\tModifiedDate\n",
      "1\tFalse\tMr.\tOrlando\tN.\tGee\tNone\tA Bike Store\tadventure-works\\pamela0\torlando0@adventure-works.com\t245-555-0173\tL/Rlwxzp4w7RWmEgXX+/A7cXaePEPcp+KwQhl2fJL7w=\t1KjXYs4=\t3f5ae95e-b87d-4aed-95b4-c3797afcb74f\t2005-08-01 00:00:00\n",
      "2\tFalse\tMr.\tKeith\tNone\tHarris\tNone\tProgressive Sports\tadventure-works\\david8\tkeith0@adventure-works.com\t170-555-0127\tYPdtRdvqeAhj6wyxEsFdshBDNXxkCXn+CRgbvJItknw=\tfs1ZGhY=\te552f657-a9af-4a7d-a645-c429d6e02491\t2006-08-01 00:00:00\n",
      "3\tFalse\tMs.\tDonna\tF.\tCarreras\tNone\tAdvanced Bike Components\tadventure-works\\jillian0\tdonna0@adventure-works.com\t279-555-0130\tLNoK27abGQo48gGue3EBV/UrlYSToV0/s87dCRV7uJk=\tYTNH5Rw=\t130774b1-db21-4ef3-98c8-c104bcd6ed6d\t2005-09-01 00:00:00\n",
      "*/\n",
      "\n",
      "\n",
      "CREATE TABLE [SalesLT].[SalesOrderHeader] (\n",
      "\t[SalesOrderID] INTEGER NOT NULL DEFAULT (NEXT VALUE FOR [SalesLT].[SalesOrderNumber]), \n",
      "\t[RevisionNumber] TINYINT NOT NULL DEFAULT ((0)), \n",
      "\t[OrderDate] DATETIME NOT NULL DEFAULT (getdate()), \n",
      "\t[DueDate] DATETIME NOT NULL, \n",
      "\t[ShipDate] DATETIME NULL, \n",
      "\t[Status] TINYINT NOT NULL DEFAULT ((1)), \n",
      "\t[OnlineOrderFlag] BIT NOT NULL DEFAULT ((1)), \n",
      "\t[SalesOrderNumber] AS ((isnull(N'SO'+CONVERT([nvarchar](23),[SalesOrderID],(0)),N'*** ERROR ***'))) NOT NULL, \n",
      "\t[PurchaseOrderNumber] NVARCHAR(25) COLLATE SQL_Latin1_General_CP1_CI_AS NULL, \n",
      "\t[AccountNumber] NVARCHAR(15) COLLATE SQL_Latin1_General_CP1_CI_AS NULL, \n",
      "\t[CustomerID] INTEGER NOT NULL, \n",
      "\t[ShipToAddressID] INTEGER NULL, \n",
      "\t[BillToAddressID] INTEGER NULL, \n",
      "\t[ShipMethod] NVARCHAR(50) COLLATE SQL_Latin1_General_CP1_CI_AS NOT NULL, \n",
      "\t[CreditCardApprovalCode] VARCHAR(15) COLLATE SQL_Latin1_General_CP1_CI_AS NULL, \n",
      "\t[SubTotal] MONEY NOT NULL DEFAULT ((0.00)), \n",
      "\t[TaxAmt] MONEY NOT NULL DEFAULT ((0.00)), \n",
      "\t[Freight] MONEY NOT NULL DEFAULT ((0.00)), \n",
      "\t[TotalDue] AS ((isnull(([SubTotal]+[TaxAmt])+[Freight],(0)))) NOT NULL, \n",
      "\t[Comment] NVARCHAR(max) COLLATE SQL_Latin1_General_CP1_CI_AS NULL, \n",
      "\trowguid UNIQUEIDENTIFIER NOT NULL DEFAULT (newid()), \n",
      "\t[ModifiedDate] DATETIME NOT NULL DEFAULT (getdate()), \n",
      "\tCONSTRAINT [PK_SalesOrderHeader_SalesOrderID] PRIMARY KEY ([SalesOrderID]), \n",
      "\tCONSTRAINT [FK_SalesOrderHeader_Address_BillTo_AddressID] FOREIGN KEY([BillToAddressID]) REFERENCES [SalesLT].[Address] ([AddressID]), \n",
      "\tCONSTRAINT [FK_SalesOrderHeader_Address_ShipTo_AddressID] FOREIGN KEY([ShipToAddressID]) REFERENCES [SalesLT].[Address] ([AddressID]), \n",
      "\tCONSTRAINT [FK_SalesOrderHeader_Customer_CustomerID] FOREIGN KEY([CustomerID]) REFERENCES [SalesLT].[Customer] ([CustomerID])\n",
      ")\n",
      "\n",
      "/*\n",
      "3 rows from SalesOrderHeader table:\n",
      "SalesOrderID\tRevisionNumber\tOrderDate\tDueDate\tShipDate\tStatus\tOnlineOrderFlag\tSalesOrderNumber\tPurchaseOrderNumber\tAccountNumber\tCustomerID\tShipToAddressID\tBillToAddressID\tShipMethod\tCreditCardApprovalCode\tSubTotal\tTaxAmt\tFreight\tTotalDue\tComment\trowguid\tModifiedDate\n",
      "71774\t2\t2008-06-01 00:00:00\t2008-06-13 00:00:00\t2008-06-08 00:00:00\t5\tFalse\tSO71774\tPO348186287\t10-4020-000609\t29847\t1092\t1092\tCARGO TRANSPORT 5\tNone\t880.3484\t70.4279\t22.0087\t972.7850\tNone\t89e42cdc-8506-48a2-b89b-eb3e64e3554e\t2008-06-08 00:00:00\n",
      "71776\t2\t2008-06-01 00:00:00\t2008-06-13 00:00:00\t2008-06-08 00:00:00\t5\tFalse\tSO71776\tPO19952192051\t10-4020-000106\t30072\t640\t640\tCARGO TRANSPORT 5\tNone\t78.8100\t6.3048\t1.9703\t87.0851\tNone\t8a3448c5-e677-4158-a29b-dd33069be0b0\t2008-06-08 00:00:00\n",
      "71780\t2\t2008-06-01 00:00:00\t2008-06-13 00:00:00\t2008-06-08 00:00:00\t5\tFalse\tSO71780\tPO19604173239\t10-4020-000340\t30113\t653\t653\tCARGO TRANSPORT 5\tNone\t38418.6895\t3073.4952\t960.4672\t42452.6519\tNone\ta47665d2-7ac9-4cf3-8a8b-2a3883554284\t2008-06-08 00:00:00\n",
      "*/\u001b[0m\n",
      "Thought:\u001b[32;1m\u001b[1;3m I should query the SalesOrderHeader table to get the total amount spent by each customer.\n",
      "Action: sql_db_query\n",
      "Action Input: SELECT CustomerID, SUM(TotalDue) AS TotalSpent FROM SalesOrderHeader GROUP BY CustomerID ORDER BY TotalSpent DESC LIMIT 10\u001b[0m\n",
      "Observation: \u001b[36;1m\u001b[1;3mError: (pymssql._pymssql.ProgrammingError) (102, b\"Incorrect syntax near 'LIMIT'.DB-Lib error message 20018, severity 15:\\nGeneral SQL Server error: Check messages from the SQL Server\\n\")\n",
      "[SQL: SELECT CustomerID, SUM(TotalDue) AS TotalSpent FROM SalesOrderHeader GROUP BY CustomerID ORDER BY TotalSpent DESC LIMIT 10]\n",
      "(Background on this error at: https://sqlalche.me/e/14/f405)\u001b[0m\n",
      "Thought:\u001b[32;1m\u001b[1;3m I should use the TOP keyword instead of LIMIT to limit the results.\n",
      "Action: sql_db_query\n",
      "Action Input: SELECT TOP 10 CustomerID, SUM(TotalDue) AS TotalSpent FROM SalesOrderHeader GROUP BY CustomerID ORDER BY TotalSpent DESC\u001b[0m\n",
      "Observation: \u001b[36;1m\u001b[1;3mError: (pymssql._pymssql.ProgrammingError) (208, b\"Invalid object name 'SalesOrderHeader'.DB-Lib error message 20018, severity 16:\\nGeneral SQL Server error: Check messages from the SQL Server\\n\")\n",
      "[SQL: SELECT TOP 10 CustomerID, SUM(TotalDue) AS TotalSpent FROM SalesOrderHeader GROUP BY CustomerID ORDER BY TotalSpent DESC]\n",
      "(Background on this error at: https://sqlalche.me/e/14/f405)\u001b[0m\n",
      "Thought:\u001b[32;1m\u001b[1;3m I should check the spelling of the table name.\n",
      "Action: sql_db_query\n",
      "Action Input: SELECT TOP 10 CustomerID, SUM(TotalDue) AS TotalSpent FROM SalesOrderHeader GROUP BY CustomerID ORDER BY TotalSpent DESC\u001b[0m\n",
      "Observation: \u001b[36;1m\u001b[1;3mError: (pymssql._pymssql.ProgrammingError) (208, b\"Invalid object name 'SalesOrderHeader'.DB-Lib error message 20018, severity 16:\\nGeneral SQL Server error: Check messages from the SQL Server\\n\")\n",
      "[SQL: SELECT TOP 10 CustomerID, SUM(TotalDue) AS TotalSpent FROM SalesOrderHeader GROUP BY CustomerID ORDER BY TotalSpent DESC]\n",
      "(Background on this error at: https://sqlalche.me/e/14/f405)\u001b[0m\n",
      "Thought:\u001b[32;1m\u001b[1;3m I should check the spelling of the table name.\n",
      "Action: sql_db_query\n",
      "Action Input: SELECT TOP 10 CustomerID, SUM(TotalDue) AS TotalSpent FROM SalesLT.SalesOrderHeader GROUP BY CustomerID ORDER BY TotalSpent DESC\u001b[0m\n",
      "Observation: \u001b[36;1m\u001b[1;3m[(29736, Decimal('119960.8240')), (30050, Decimal('108597.9536')), (29546, Decimal('98138.2131')), (29957, Decimal('92663.5609')), (29796, Decimal('86222.8072')), (29929, Decimal('81834.9826')), (29932, Decimal('70698.9922')), (29660, Decimal('63686.2708')), (29938, Decimal('45992.3665')), (29485, Decimal('43962.7901'))]\u001b[0m\n",
      "Thought:\u001b[32;1m\u001b[1;3m I now know the final answer\n",
      "Final Answer: [(29736, Decimal('119960.8240')), (30050, Decimal('108597.9536')), (29546, Decimal('98138.2131')), (29957, Decimal('92663.5609')), (29796, Decimal('86222.8072')), (29929, Decimal('81834.9826')), (29932, Decimal('70698.9922')), (29660, Decimal('63686.2708')), (29938, Decimal('45992.3665')), (29485, Decimal('43962.7901'))]\u001b[0m\n",
      "\n",
      "\u001b[1m> Finished chain.\u001b[0m\n"
     ]
    },
    {
     "data": {
      "text/plain": [
       "\"[(29736, Decimal('119960.8240')), (30050, Decimal('108597.9536')), (29546, Decimal('98138.2131')), (29957, Decimal('92663.5609')), (29796, Decimal('86222.8072')), (29929, Decimal('81834.9826')), (29932, Decimal('70698.9922')), (29660, Decimal('63686.2708')), (29938, Decimal('45992.3665')), (29485, Decimal('43962.7901'))]\""
      ]
     },
     "execution_count": 10,
     "metadata": {},
     "output_type": "execute_result"
    }
   ],
   "source": [
    "agent_executor.run(\"How much money did each customer spend?\")"
   ]
  }
 ],
 "metadata": {
  "kernelspec": {
   "display_name": "base",
   "language": "python",
   "name": "python3"
  },
  "language_info": {
   "codemirror_mode": {
    "name": "ipython",
    "version": 3
   },
   "file_extension": ".py",
   "mimetype": "text/x-python",
   "name": "python",
   "nbconvert_exporter": "python",
   "pygments_lexer": "ipython3",
   "version": "3.9.18"
  }
 },
 "nbformat": 4,
 "nbformat_minor": 2
}

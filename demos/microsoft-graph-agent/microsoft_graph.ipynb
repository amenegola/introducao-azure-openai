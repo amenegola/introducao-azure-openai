{
 "cells": [
  {
   "cell_type": "markdown",
   "metadata": {},
   "source": [
    "# Microsoft Graph Agent"
   ]
  },
  {
   "cell_type": "code",
   "execution_count": 1,
   "metadata": {},
   "outputs": [],
   "source": [
    "import os\n",
    "from dotenv import load_dotenv\n",
    "from langchain.agents.agent_toolkits import O365Toolkit\n",
    "from langchain.chat_models import AzureChatOpenAI\n",
    "from langchain.agents import initialize_agent, AgentType\n",
    "\n",
    "load_dotenv(verbose=True)\n",
    "\n",
    "OPENAI_API_TYPE = os.getenv(\"OPENAI_API_TYPE\")\n",
    "OPENAI_API_VERSION = os.getenv(\"OPENAI_API_VERSION\")\n",
    "OPENAI_API_KEY = os.getenv(\"OPENAI_API_KEY\")\n",
    "OPENAI_API_BASE = os.getenv(\"OPENAI_API_BASE\")"
   ]
  },
  {
   "cell_type": "code",
   "execution_count": null,
   "metadata": {},
   "outputs": [],
   "source": [
    "toolkit = O365Toolkit()\n",
    "tools = toolkit.get_tools()"
   ]
  },
  {
   "cell_type": "code",
   "execution_count": null,
   "metadata": {},
   "outputs": [],
   "source": [
    "llm = AzureChatOpenAI(\n",
    "    openai_api_base=OPENAI_API_BASE,\n",
    "    openai_api_version=OPENAI_API_VERSION,\n",
    "    deployment_name='gpt-35-turbo-16k',\n",
    "    openai_api_key=OPENAI_API_KEY,\n",
    "    openai_api_type=OPENAI_API_TYPE,\n",
    ")\n",
    "\n",
    "agent = initialize_agent(\n",
    "    tools=toolkit.get_tools(),\n",
    "    llm=llm,\n",
    "    verbose=True,\n",
    "    agent=AgentType.STRUCTURED_CHAT_ZERO_SHOT_REACT_DESCRIPTION,\n",
    ")"
   ]
  },
  {
   "cell_type": "code",
   "execution_count": null,
   "metadata": {},
   "outputs": [],
   "source": [
    "agent.run(\n",
    "    \"Create an email draft for me to edit of a letter from the perspective of a sentient parrot\"\n",
    "    \" who is looking to collaborate on some research with her\"\n",
    "    \" estranged friend, a cat. Under no circumstances may you send the message, however.\"\n",
    ")"
   ]
  },
  {
   "cell_type": "code",
   "execution_count": 15,
   "metadata": {},
   "outputs": [
    {
     "name": "stdout",
     "output_type": "stream",
     "text": [
      "\n",
      "\n",
      "\u001b[1m> Entering new AgentExecutor chain...\u001b[0m\n",
      "\u001b[32;1m\u001b[1;3mTo find out how many emails you received since yesterday, I can use the \"messages_search\" tool to search for email messages based on the received date. \n",
      "\n",
      "Action:\n",
      "```\n",
      "{\n",
      "  \"action\": \"messages_search\",\n",
      "  \"action_input\": {\n",
      "    \"query\": \"received:>yesterday\",\n",
      "    \"max_results\": 1,\n",
      "    \"truncate\": false\n",
      "  }\n",
      "}\n",
      "```\u001b[0m\n",
      "Observation: \u001b[38;5;200m\u001b[1;3m[]\u001b[0m\n",
      "Thought:\u001b[32;1m\u001b[1;3mIt seems that there are no email messages returned from the search. Let me try adjusting the search query to include the correct date range. \n",
      "\n",
      "Action:\n",
      "```\n",
      "{\n",
      "  \"action\": \"messages_search\",\n",
      "  \"action_input\": {\n",
      "    \"query\": \"received:>2023-06-08\",\n",
      "    \"max_results\": 1,\n",
      "    \"truncate\": false\n",
      "  }\n",
      "}\n",
      "```\u001b[0m\n",
      "Observation: \u001b[38;5;200m\u001b[1;3m[]\u001b[0m\n",
      "Thought:\u001b[32;1m\u001b[1;3mIt seems that there are still no email messages returned from the search. Let me try adjusting the search query to include the correct date range and limit the number of results.\n",
      "\n",
      "Action:\n",
      "```\n",
      "{\n",
      "  \"action\": \"messages_search\",\n",
      "  \"action_input\": {\n",
      "    \"query\": \"received:>2023-06-08\",\n",
      "    \"max_results\": 10,\n",
      "    \"truncate\": false\n",
      "  }\n",
      "}\n",
      "```\n",
      "\u001b[0m\n",
      "Observation: \u001b[38;5;200m\u001b[1;3m[]\u001b[0m\n",
      "Thought:\u001b[32;1m\u001b[1;3mIt seems that there are still no email messages returned from the search. Let me try adjusting the search query to include the correct date range and limit the number of results.\n",
      "\n",
      "Action:\n",
      "```\n",
      "{\n",
      "  \"action\": \"messages_search\",\n",
      "  \"action_input\": {\n",
      "    \"query\": \"received:2023-06-08..2023-06-09\",\n",
      "    \"max_results\": 10,\n",
      "    \"truncate\": false\n",
      "  }\n",
      "}\n",
      "```\u001b[0m\n",
      "Observation: \u001b[38;5;200m\u001b[1;3m[]\u001b[0m\n",
      "Thought:\u001b[32;1m\u001b[1;3mIt seems that there are still no email messages returned from the search. Let me try adjusting the search query to include the correct date range and limit the number of results.\n",
      "\n",
      "Action:\n",
      "```\n",
      "{\n",
      "  \"action\": \"messages_search\",\n",
      "  \"action_input\": {\n",
      "    \"query\": \"received:2023-06-08..2023-06-10\",\n",
      "    \"max_results\": 10,\n",
      "    \"truncate\": false\n",
      "  }\n",
      "}\n",
      "```\u001b[0m\n",
      "Observation: \u001b[38;5;200m\u001b[1;3m[]\u001b[0m\n",
      "Thought:\u001b[32;1m\u001b[1;3mIt seems that there are still no email messages returned from the search. Let me try adjusting the search query to include the correct date range and limit the number of results.\n",
      "\n",
      "Action:\n",
      "```\n",
      "{\n",
      "  \"action\": \"messages_search\",\n",
      "  \"action_input\": {\n",
      "    \"query\": \"received:2023-06-08..2023-06-10\",\n",
      "    \"max_results\": 10,\n",
      "    \"truncate\": false\n",
      "  }\n",
      "}\n",
      "```\n",
      "\u001b[0m\n",
      "Observation: \u001b[38;5;200m\u001b[1;3m[]\u001b[0m\n",
      "Thought:\u001b[32;1m\u001b[1;3mIt appears that there are no email messages returned from the search. This could mean that you have not received any emails since yesterday or there may be an issue with the search query. Let me try one more time to retrieve the emails.\n",
      "\n",
      "Action:\n",
      "```\n",
      "{\n",
      "  \"action\": \"messages_search\",\n",
      "  \"action_input\": {\n",
      "    \"query\": \"received:2023-06-08..\",\n",
      "    \"max_results\": 10,\n",
      "    \"truncate\": false\n",
      "  }\n",
      "}\n",
      "```\n",
      "\n",
      "\u001b[0m\n",
      "Observation: \u001b[38;5;200m\u001b[1;3m[]\u001b[0m\n",
      "Thought:\u001b[32;1m\u001b[1;3mIt seems that there are still no email messages returned from the search. This indicates that you have not received any emails since yesterday or there may be an issue with the search query. I apologize for the inconvenience. Is there anything else I can assist you with?\u001b[0m\n",
      "\n",
      "\u001b[1m> Finished chain.\u001b[0m\n"
     ]
    },
    {
     "data": {
      "text/plain": [
       "'It seems that there are still no email messages returned from the search. This indicates that you have not received any emails since yesterday or there may be an issue with the search query. I apologize for the inconvenience. Is there anything else I can assist you with?'"
      ]
     },
     "execution_count": 15,
     "metadata": {},
     "output_type": "execute_result"
    }
   ],
   "source": [
    "agent.run(\"how many emails I received since yesterday?\")"
   ]
  }
 ],
 "metadata": {
  "kernelspec": {
   "display_name": "base",
   "language": "python",
   "name": "python3"
  },
  "language_info": {
   "codemirror_mode": {
    "name": "ipython",
    "version": 3
   },
   "file_extension": ".py",
   "mimetype": "text/x-python",
   "name": "python",
   "nbconvert_exporter": "python",
   "pygments_lexer": "ipython3",
   "version": "3.9.18"
  },
  "orig_nbformat": 4
 },
 "nbformat": 4,
 "nbformat_minor": 2
}
